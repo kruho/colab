{
  "nbformat": 4,
  "nbformat_minor": 0,
  "metadata": {
    "colab": {
      "name": "recognition.ipynb",
      "version": "0.3.2",
      "provenance": [],
      "include_colab_link": true
    },
    "kernelspec": {
      "name": "python3",
      "display_name": "Python 3"
    },
    "accelerator": "GPU"
  },
  "cells": [
    {
      "cell_type": "markdown",
      "metadata": {
        "id": "view-in-github",
        "colab_type": "text"
      },
      "source": [
        "<a href=\"https://colab.research.google.com/github/kruho/colab/blob/master/recognition.ipynb\" target=\"_parent\"><img src=\"https://colab.research.google.com/assets/colab-badge.svg\" alt=\"Open In Colab\"/></a>"
      ]
    },
    {
      "cell_type": "code",
      "metadata": {
        "id": "X78psqhd0QnW",
        "colab_type": "code",
        "colab": {}
      },
      "source": [
        "a=3"
      ],
      "execution_count": 0,
      "outputs": []
    },
    {
      "cell_type": "code",
      "metadata": {
        "id": "6JGS98H_0Sq6",
        "colab_type": "code",
        "outputId": "26980490-01da-4303-a526-2f464cd110c6",
        "colab": {
          "base_uri": "https://localhost:8080/",
          "height": 34
        }
      },
      "source": [
        "a"
      ],
      "execution_count": 0,
      "outputs": [
        {
          "output_type": "execute_result",
          "data": {
            "text/plain": [
              "3"
            ]
          },
          "metadata": {
            "tags": []
          },
          "execution_count": 217
        }
      ]
    },
    {
      "cell_type": "markdown",
      "metadata": {
        "id": "Bd1htTLQgp_X",
        "colab_type": "text"
      },
      "source": [
        "# MNISTデータをダウンロードする"
      ]
    },
    {
      "cell_type": "code",
      "metadata": {
        "id": "PE2ahkFJE3Gs",
        "colab_type": "code",
        "colab": {}
      },
      "source": [
        "from keras.datasets import mnist\n",
        "\n",
        "(x_train, y_train), (x_test, y_test) = mnist.load_data()"
      ],
      "execution_count": 0,
      "outputs": []
    },
    {
      "cell_type": "code",
      "metadata": {
        "id": "z1yq_nb6FI8P",
        "colab_type": "code",
        "outputId": "44e73cb7-3d63-4e82-f0ca-0f2ce3f2eb2f",
        "colab": {
          "base_uri": "https://localhost:8080/",
          "height": 34
        }
      },
      "source": [
        "x_train.shape, x_test.shape"
      ],
      "execution_count": 0,
      "outputs": [
        {
          "output_type": "execute_result",
          "data": {
            "text/plain": [
              "((60000, 28, 28), (10000, 28, 28))"
            ]
          },
          "metadata": {
            "tags": []
          },
          "execution_count": 221
        }
      ]
    },
    {
      "cell_type": "code",
      "metadata": {
        "id": "GnEPbXKKFRCZ",
        "colab_type": "code",
        "outputId": "76a607d9-8a61-44c0-d10c-a88115032630",
        "colab": {
          "base_uri": "https://localhost:8080/",
          "height": 286
        }
      },
      "source": [
        "import matplotlib.pyplot as plt\n",
        "\n",
        "plt.imshow(x_train[11223])"
      ],
      "execution_count": 0,
      "outputs": [
        {
          "output_type": "execute_result",
          "data": {
            "text/plain": [
              "<matplotlib.image.AxesImage at 0x7fc56e486f60>"
            ]
          },
          "metadata": {
            "tags": []
          },
          "execution_count": 222
        },
        {
          "output_type": "display_data",
          "data": {
            "image/png": "[encoded data removed]",
            "text/plain": [
              "<Figure size 432x288 with 1 Axes>"
            ]
          },
          "metadata": {
            "tags": []
          }
        }
      ]
    },
    {
      "cell_type": "code",
      "metadata": {
        "id": "t77hZYNvfzJy",
        "colab_type": "code",
        "outputId": "b7ca21bc-231b-4d7e-a6b3-5b044e9c90fb",
        "colab": {
          "base_uri": "https://localhost:8080/",
          "height": 34
        }
      },
      "source": [
        "y_train[11223]"
      ],
      "execution_count": 0,
      "outputs": [
        {
          "output_type": "execute_result",
          "data": {
            "text/plain": [
              "9"
            ]
          },
          "metadata": {
            "tags": []
          },
          "execution_count": 223
        }
      ]
    },
    {
      "cell_type": "code",
      "metadata": {
        "id": "y2UeWgTW1g9Y",
        "colab_type": "code",
        "outputId": "7da4e6cd-b33e-4619-e635-832b22c1614e",
        "colab": {
          "base_uri": "https://localhost:8080/",
          "height": 281
        }
      },
      "source": [
        "plt.imshow(x_train[500])\n",
        "plt.title(y_train[500]);"
      ],
      "execution_count": 0,
      "outputs": [
        {
          "output_type": "display_data",
          "data": {
            "image/png": "[encoded data removed]",
            "text/plain": [
              "<Figure size 432x288 with 1 Axes>"
            ]
          },
          "metadata": {
            "tags": []
          }
        }
      ]
    },
    {
      "cell_type": "markdown",
      "metadata": {
        "id": "CG9EOBsNgvDy",
        "colab_type": "text"
      },
      "source": [
        "# データの前処理"
      ]
    },
    {
      "cell_type": "code",
      "metadata": {
        "id": "_qAQvqvFGviS",
        "colab_type": "code",
        "outputId": "7d78c795-bf0b-4236-921d-050ab23ee458",
        "colab": {
          "base_uri": "https://localhost:8080/",
          "height": 34
        }
      },
      "source": [
        "x_train.min(), x_train.max()"
      ],
      "execution_count": 0,
      "outputs": [
        {
          "output_type": "execute_result",
          "data": {
            "text/plain": [
              "(0, 255)"
            ]
          },
          "metadata": {
            "tags": []
          },
          "execution_count": 193
        }
      ]
    },
    {
      "cell_type": "code",
      "metadata": {
        "id": "9eWCMc5THSXy",
        "colab_type": "code",
        "colab": {}
      },
      "source": [
        "x_train = x_train / 255.\n",
        "x_test = x_test / 255."
      ],
      "execution_count": 0,
      "outputs": []
    },
    {
      "cell_type": "code",
      "metadata": {
        "id": "bnfDSHI1Hwfk",
        "colab_type": "code",
        "outputId": "35dd0436-c5d6-43ee-95b1-e47ba37ce9f4",
        "colab": {
          "base_uri": "https://localhost:8080/",
          "height": 34
        }
      },
      "source": [
        "x_train.min(), x_train.max()"
      ],
      "execution_count": 0,
      "outputs": [
        {
          "output_type": "execute_result",
          "data": {
            "text/plain": [
              "(0.0, 1.0)"
            ]
          },
          "metadata": {
            "tags": []
          },
          "execution_count": 195
        }
      ]
    },
    {
      "cell_type": "code",
      "metadata": {
        "id": "z5S1daEwJjq9",
        "colab_type": "code",
        "colab": {}
      },
      "source": [
        "x_train = x_train.reshape((60000,28,28,1))"
      ],
      "execution_count": 0,
      "outputs": []
    },
    {
      "cell_type": "code",
      "metadata": {
        "id": "10nNRVIHJsfl",
        "colab_type": "code",
        "colab": {}
      },
      "source": [
        "x_test = x_test.reshape((10000,28,28,1))"
      ],
      "execution_count": 0,
      "outputs": []
    },
    {
      "cell_type": "code",
      "metadata": {
        "id": "f4GuPlFKH3pX",
        "colab_type": "code",
        "colab": {}
      },
      "source": [
        "x_input_train = x_train[:50000]\n",
        "x_input_val = x_train[50000:]\n",
        "x_input_test = x_test"
      ],
      "execution_count": 0,
      "outputs": []
    },
    {
      "cell_type": "code",
      "metadata": {
        "id": "jYI1Wv7IgB2V",
        "colab_type": "code",
        "colab": {}
      },
      "source": [
        "import numpy as np\n",
        "\n",
        "y_train_onehot = np.eye(10)[y_train]\n",
        "y_test_onehot = np.eye(10)[y_test]"
      ],
      "execution_count": 0,
      "outputs": []
    },
    {
      "cell_type": "code",
      "metadata": {
        "id": "rabKfJjEgdDN",
        "colab_type": "code",
        "outputId": "3f7f9afe-d496-42e0-dc82-3c734deac1ad",
        "colab": {
          "base_uri": "https://localhost:8080/",
          "height": 34
        }
      },
      "source": [
        "y_train[0],y_train_onehot[0]"
      ],
      "execution_count": 0,
      "outputs": [
        {
          "output_type": "execute_result",
          "data": {
            "text/plain": [
              "(5, array([0., 0., 0., 0., 0., 1., 0., 0., 0., 0.]))"
            ]
          },
          "metadata": {
            "tags": []
          },
          "execution_count": 200
        }
      ]
    },
    {
      "cell_type": "code",
      "metadata": {
        "id": "EW4I0COigLX9",
        "colab_type": "code",
        "colab": {}
      },
      "source": [
        "y_output_train = y_train_onehot[:50000]\n",
        "y_output_val = y_train_onehot[50000:]\n",
        "y_output_test = y_test_onehot"
      ],
      "execution_count": 0,
      "outputs": []
    },
    {
      "cell_type": "markdown",
      "metadata": {
        "id": "m4mS066fhE5u",
        "colab_type": "text"
      },
      "source": [
        "# ニューラルネットを作る"
      ]
    },
    {
      "cell_type": "code",
      "metadata": {
        "id": "q2l-Vg2hIUEo",
        "colab_type": "code",
        "colab": {}
      },
      "source": [
        "from keras.layers import Input, BatchNormalization, Activation, Conv2D, GlobalAveragePooling2D"
      ],
      "execution_count": 0,
      "outputs": []
    },
    {
      "cell_type": "code",
      "metadata": {
        "id": "znG-NoqwJBLn",
        "colab_type": "code",
        "colab": {}
      },
      "source": [
        "input_tensor = Input((28,28,1))"
      ],
      "execution_count": 0,
      "outputs": []
    },
    {
      "cell_type": "code",
      "metadata": {
        "id": "h7R-KwHFJF5l",
        "colab_type": "code",
        "colab": {}
      },
      "source": [
        "if False:\n",
        "  h = Conv2D(32, (3,3), padding='same', strides=2)(input_tensor)\n",
        "  h = BatchNormalization()(h)\n",
        "  h = Activation('relu')(h)\n",
        "\n",
        "  h = Conv2D(10, (3,3), padding='same', strides=2)(h)\n",
        "  h = BatchNormalization()(h)\n",
        "\n",
        "  h = GlobalAveragePooling2D()(h)\n",
        "  output_tensor = Activation('softmax')(h)\n",
        "  \n",
        "if True:\n",
        "  h = Conv2D(16, (3,3), padding='same')(input_tensor)\n",
        "  h = BatchNormalization()(h)\n",
        "  h = Activation('relu')(h)\n",
        "\n",
        "  h = Conv2D(32, (3,3), padding='same', strides=2)(h)\n",
        "  h = BatchNormalization()(h)\n",
        "  h = Activation('relu')(h)\n",
        "\n",
        "  h = Conv2D(32, (3,3), padding='same')(h)\n",
        "  h = BatchNormalization()(h)\n",
        "  h = Activation('relu')(h)\n",
        "\n",
        "  h = Conv2D(64, (3,3), padding='same', strides=2)(h)\n",
        "  h = BatchNormalization()(h)\n",
        "  h = Activation('relu')(h)\n",
        "\n",
        "  h = Conv2D(10, (3,3), padding='same')(h)\n",
        "  h = BatchNormalization()(h)\n",
        "\n",
        "  h = GlobalAveragePooling2D()(h)\n",
        "  output_tensor = Activation('softmax')(h)\n",
        "  "
      ],
      "execution_count": 0,
      "outputs": []
    },
    {
      "cell_type": "code",
      "metadata": {
        "id": "-jsGF70nKyM_",
        "colab_type": "code",
        "colab": {}
      },
      "source": [
        "from keras.models import Model\n",
        "\n",
        "predictor = Model(input_tensor, output_tensor)"
      ],
      "execution_count": 0,
      "outputs": []
    },
    {
      "cell_type": "code",
      "metadata": {
        "id": "cEGjo2JQL24O",
        "colab_type": "code",
        "colab": {}
      },
      "source": [
        "predictor.compile(loss='categorical_crossentropy', optimizer='adam')"
      ],
      "execution_count": 0,
      "outputs": []
    },
    {
      "cell_type": "code",
      "metadata": {
        "id": "AXv-7AStL6pM",
        "colab_type": "code",
        "outputId": "204bfb3d-9271-4087-dfd9-019eb8b05821",
        "colab": {
          "base_uri": "https://localhost:8080/",
          "height": 714
        }
      },
      "source": [
        "predictor.summary()"
      ],
      "execution_count": 0,
      "outputs": [
        {
          "output_type": "stream",
          "text": [
            "_________________________________________________________________\n",
            "Layer (type)                 Output Shape              Param #   \n",
            "=================================================================\n",
            "input_8 (InputLayer)         (None, 28, 28, 1)         0         \n",
            "_________________________________________________________________\n",
            "conv2d_25 (Conv2D)           (None, 28, 28, 16)        160       \n",
            "_________________________________________________________________\n",
            "batch_normalization_24 (Batc (None, 28, 28, 16)        64        \n",
            "_________________________________________________________________\n",
            "activation_25 (Activation)   (None, 28, 28, 16)        0         \n",
            "_________________________________________________________________\n",
            "conv2d_26 (Conv2D)           (None, 14, 14, 32)        4640      \n",
            "_________________________________________________________________\n",
            "batch_normalization_25 (Batc (None, 14, 14, 32)        128       \n",
            "_________________________________________________________________\n",
            "activation_26 (Activation)   (None, 14, 14, 32)        0         \n",
            "_________________________________________________________________\n",
            "conv2d_27 (Conv2D)           (None, 14, 14, 32)        9248      \n",
            "_________________________________________________________________\n",
            "batch_normalization_26 (Batc (None, 14, 14, 32)        128       \n",
            "_________________________________________________________________\n",
            "activation_27 (Activation)   (None, 14, 14, 32)        0         \n",
            "_________________________________________________________________\n",
            "conv2d_28 (Conv2D)           (None, 7, 7, 64)          18496     \n",
            "_________________________________________________________________\n",
            "batch_normalization_27 (Batc (None, 7, 7, 64)          256       \n",
            "_________________________________________________________________\n",
            "activation_28 (Activation)   (None, 7, 7, 64)          0         \n",
            "_________________________________________________________________\n",
            "conv2d_29 (Conv2D)           (None, 7, 7, 10)          5770      \n",
            "_________________________________________________________________\n",
            "batch_normalization_28 (Batc (None, 7, 7, 10)          40        \n",
            "_________________________________________________________________\n",
            "global_average_pooling2d_9 ( (None, 10)                0         \n",
            "_________________________________________________________________\n",
            "activation_29 (Activation)   (None, 10)                0         \n",
            "=================================================================\n",
            "Total params: 38,930\n",
            "Trainable params: 38,622\n",
            "Non-trainable params: 308\n",
            "_________________________________________________________________\n"
          ],
          "name": "stdout"
        }
      ]
    },
    {
      "cell_type": "code",
      "metadata": {
        "id": "fGiOzBmwtt0G",
        "colab_type": "code",
        "outputId": "d36ee220-a7cd-4a91-9043-f80d7d664be6",
        "colab": {
          "base_uri": "https://localhost:8080/",
          "height": 1865
        }
      },
      "source": [
        "from IPython.display import SVG\n",
        "from keras.utils.vis_utils import model_to_dot\n",
        "\n",
        "SVG(model_to_dot(predictor, show_shapes=True).create(prog='dot', format='svg'))"
      ],
      "execution_count": 0,
      "outputs": [
        {
          "output_type": "execute_result",
          "data": {
            "text/plain": [
              "<IPython.core.display.SVG object>"
            ],
            "image/svg+xml": "<svg height=\"1383pt\" viewBox=\"0.00 0.00 520.00 1383.00\" width=\"520pt\" xmlns=\"http://www.w3.org/2000/svg\" xmlns:xlink=\"http://www.w3.org/1999/xlink\">\n<g class=\"graph\" id=\"graph0\" transform=\"scale(1 1) rotate(0) translate(4 1379)\">\n<title>G</title>\n<polygon fill=\"#ffffff\" points=\"-4,4 -4,-1379 516,-1379 516,4 -4,4\" stroke=\"transparent\"/>\n<!-- 140485957171576 -->\n<g class=\"node\" id=\"node1\">\n<title>140485957171576</title>\n<polygon fill=\"none\" points=\"102,-1328.5 102,-1374.5 410,-1374.5 410,-1328.5 102,-1328.5\" stroke=\"#000000\"/>\n<text fill=\"#000000\" font-family=\"Times,serif\" font-size=\"14.00\" text-anchor=\"middle\" x=\"168.5\" y=\"-1347.8\">input_8: InputLayer</text>\n<polyline fill=\"none\" points=\"235,-1328.5 235,-1374.5 \" stroke=\"#000000\"/>\n<text fill=\"#000000\" font-family=\"Times,serif\" font-size=\"14.00\" text-anchor=\"middle\" x=\"264\" y=\"-1359.3\">input:</text>\n<polyline fill=\"none\" points=\"235,-1351.5 293,-1351.5 \" stroke=\"#000000\"/>\n<text fill=\"#000000\" font-family=\"Times,serif\" font-size=\"14.00\" text-anchor=\"middle\" x=\"264\" y=\"-1336.3\">output:</text>\n<polyline fill=\"none\" points=\"293,-1328.5 293,-1374.5 \" stroke=\"#000000\"/>\n<text fill=\"#000000\" font-family=\"Times,serif\" font-size=\"14.00\" text-anchor=\"middle\" x=\"351.5\" y=\"-1359.3\">(None, 28, 28, 1)</text>\n<polyline fill=\"none\" points=\"293,-1351.5 410,-1351.5 \" stroke=\"#000000\"/>\n<text fill=\"#000000\" font-family=\"Times,serif\" font-size=\"14.00\" text-anchor=\"middle\" x=\"351.5\" y=\"-1336.3\">(None, 28, 28, 1)</text>\n</g>\n<!-- 140485957254896 -->\n<g class=\"node\" id=\"node2\">\n<title>140485957254896</title>\n<polygon fill=\"none\" points=\"94.5,-1245.5 94.5,-1291.5 417.5,-1291.5 417.5,-1245.5 94.5,-1245.5\" stroke=\"#000000\"/>\n<text fill=\"#000000\" font-family=\"Times,serif\" font-size=\"14.00\" text-anchor=\"middle\" x=\"164.5\" y=\"-1264.8\">conv2d_25: Conv2D</text>\n<polyline fill=\"none\" points=\"234.5,-1245.5 234.5,-1291.5 \" stroke=\"#000000\"/>\n<text fill=\"#000000\" font-family=\"Times,serif\" font-size=\"14.00\" text-anchor=\"middle\" x=\"263.5\" y=\"-1276.3\">input:</text>\n<polyline fill=\"none\" points=\"234.5,-1268.5 292.5,-1268.5 \" stroke=\"#000000\"/>\n<text fill=\"#000000\" font-family=\"Times,serif\" font-size=\"14.00\" text-anchor=\"middle\" x=\"263.5\" y=\"-1253.3\">output:</text>\n<polyline fill=\"none\" points=\"292.5,-1245.5 292.5,-1291.5 \" stroke=\"#000000\"/>\n<text fill=\"#000000\" font-family=\"Times,serif\" font-size=\"14.00\" text-anchor=\"middle\" x=\"355\" y=\"-1276.3\">(None, 28, 28, 1)</text>\n<polyline fill=\"none\" points=\"292.5,-1268.5 417.5,-1268.5 \" stroke=\"#000000\"/>\n<text fill=\"#000000\" font-family=\"Times,serif\" font-size=\"14.00\" text-anchor=\"middle\" x=\"355\" y=\"-1253.3\">(None, 28, 28, 16)</text>\n</g>\n<!-- 140485957171576&#45;&gt;140485957254896 -->\n<g class=\"edge\" id=\"edge1\">\n<title>140485957171576-&gt;140485957254896</title>\n<path d=\"M256,-1328.3799C256,-1320.1745 256,-1310.7679 256,-1301.8786\" fill=\"none\" stroke=\"#000000\"/>\n<polygon fill=\"#000000\" points=\"259.5001,-1301.784 256,-1291.784 252.5001,-1301.784 259.5001,-1301.784\" stroke=\"#000000\"/>\n</g>\n<!-- 140485957247216 -->\n<g class=\"node\" id=\"node3\">\n<title>140485957247216</title>\n<polygon fill=\"none\" points=\"25.5,-1162.5 25.5,-1208.5 486.5,-1208.5 486.5,-1162.5 25.5,-1162.5\" stroke=\"#000000\"/>\n<text fill=\"#000000\" font-family=\"Times,serif\" font-size=\"14.00\" text-anchor=\"middle\" x=\"164.5\" y=\"-1181.8\">batch_normalization_24: BatchNormalization</text>\n<polyline fill=\"none\" points=\"303.5,-1162.5 303.5,-1208.5 \" stroke=\"#000000\"/>\n<text fill=\"#000000\" font-family=\"Times,serif\" font-size=\"14.00\" text-anchor=\"middle\" x=\"332.5\" y=\"-1193.3\">input:</text>\n<polyline fill=\"none\" points=\"303.5,-1185.5 361.5,-1185.5 \" stroke=\"#000000\"/>\n<text fill=\"#000000\" font-family=\"Times,serif\" font-size=\"14.00\" text-anchor=\"middle\" x=\"332.5\" y=\"-1170.3\">output:</text>\n<polyline fill=\"none\" points=\"361.5,-1162.5 361.5,-1208.5 \" stroke=\"#000000\"/>\n<text fill=\"#000000\" font-family=\"Times,serif\" font-size=\"14.00\" text-anchor=\"middle\" x=\"424\" y=\"-1193.3\">(None, 28, 28, 16)</text>\n<polyline fill=\"none\" points=\"361.5,-1185.5 486.5,-1185.5 \" stroke=\"#000000\"/>\n<text fill=\"#000000\" font-family=\"Times,serif\" font-size=\"14.00\" text-anchor=\"middle\" x=\"424\" y=\"-1170.3\">(None, 28, 28, 16)</text>\n</g>\n<!-- 140485957254896&#45;&gt;140485957247216 -->\n<g class=\"edge\" id=\"edge2\">\n<title>140485957254896-&gt;140485957247216</title>\n<path d=\"M256,-1245.3799C256,-1237.1745 256,-1227.7679 256,-1218.8786\" fill=\"none\" stroke=\"#000000\"/>\n<polygon fill=\"#000000\" points=\"259.5001,-1218.784 256,-1208.784 252.5001,-1218.784 259.5001,-1218.784\" stroke=\"#000000\"/>\n</g>\n<!-- 140485957247384 -->\n<g class=\"node\" id=\"node4\">\n<title>140485957247384</title>\n<polygon fill=\"none\" points=\"84,-1079.5 84,-1125.5 428,-1125.5 428,-1079.5 84,-1079.5\" stroke=\"#000000\"/>\n<text fill=\"#000000\" font-family=\"Times,serif\" font-size=\"14.00\" text-anchor=\"middle\" x=\"164.5\" y=\"-1098.8\">activation_25: Activation</text>\n<polyline fill=\"none\" points=\"245,-1079.5 245,-1125.5 \" stroke=\"#000000\"/>\n<text fill=\"#000000\" font-family=\"Times,serif\" font-size=\"14.00\" text-anchor=\"middle\" x=\"274\" y=\"-1110.3\">input:</text>\n<polyline fill=\"none\" points=\"245,-1102.5 303,-1102.5 \" stroke=\"#000000\"/>\n<text fill=\"#000000\" font-family=\"Times,serif\" font-size=\"14.00\" text-anchor=\"middle\" x=\"274\" y=\"-1087.3\">output:</text>\n<polyline fill=\"none\" points=\"303,-1079.5 303,-1125.5 \" stroke=\"#000000\"/>\n<text fill=\"#000000\" font-family=\"Times,serif\" font-size=\"14.00\" text-anchor=\"middle\" x=\"365.5\" y=\"-1110.3\">(None, 28, 28, 16)</text>\n<polyline fill=\"none\" points=\"303,-1102.5 428,-1102.5 \" stroke=\"#000000\"/>\n<text fill=\"#000000\" font-family=\"Times,serif\" font-size=\"14.00\" text-anchor=\"middle\" x=\"365.5\" y=\"-1087.3\">(None, 28, 28, 16)</text>\n</g>\n<!-- 140485957247216&#45;&gt;140485957247384 -->\n<g class=\"edge\" id=\"edge3\">\n<title>140485957247216-&gt;140485957247384</title>\n<path d=\"M256,-1162.3799C256,-1154.1745 256,-1144.7679 256,-1135.8786\" fill=\"none\" stroke=\"#000000\"/>\n<polygon fill=\"#000000\" points=\"259.5001,-1135.784 256,-1125.784 252.5001,-1135.784 259.5001,-1135.784\" stroke=\"#000000\"/>\n</g>\n<!-- 140485956963744 -->\n<g class=\"node\" id=\"node5\">\n<title>140485956963744</title>\n<polygon fill=\"none\" points=\"94.5,-996.5 94.5,-1042.5 417.5,-1042.5 417.5,-996.5 94.5,-996.5\" stroke=\"#000000\"/>\n<text fill=\"#000000\" font-family=\"Times,serif\" font-size=\"14.00\" text-anchor=\"middle\" x=\"164.5\" y=\"-1015.8\">conv2d_26: Conv2D</text>\n<polyline fill=\"none\" points=\"234.5,-996.5 234.5,-1042.5 \" stroke=\"#000000\"/>\n<text fill=\"#000000\" font-family=\"Times,serif\" font-size=\"14.00\" text-anchor=\"middle\" x=\"263.5\" y=\"-1027.3\">input:</text>\n<polyline fill=\"none\" points=\"234.5,-1019.5 292.5,-1019.5 \" stroke=\"#000000\"/>\n<text fill=\"#000000\" font-family=\"Times,serif\" font-size=\"14.00\" text-anchor=\"middle\" x=\"263.5\" y=\"-1004.3\">output:</text>\n<polyline fill=\"none\" points=\"292.5,-996.5 292.5,-1042.5 \" stroke=\"#000000\"/>\n<text fill=\"#000000\" font-family=\"Times,serif\" font-size=\"14.00\" text-anchor=\"middle\" x=\"355\" y=\"-1027.3\">(None, 28, 28, 16)</text>\n<polyline fill=\"none\" points=\"292.5,-1019.5 417.5,-1019.5 \" stroke=\"#000000\"/>\n<text fill=\"#000000\" font-family=\"Times,serif\" font-size=\"14.00\" text-anchor=\"middle\" x=\"355\" y=\"-1004.3\">(None, 14, 14, 32)</text>\n</g>\n<!-- 140485957247384&#45;&gt;140485956963744 -->\n<g class=\"edge\" id=\"edge4\">\n<title>140485957247384-&gt;140485956963744</title>\n<path d=\"M256,-1079.3799C256,-1071.1745 256,-1061.7679 256,-1052.8786\" fill=\"none\" stroke=\"#000000\"/>\n<polygon fill=\"#000000\" points=\"259.5001,-1052.784 256,-1042.784 252.5001,-1052.784 259.5001,-1052.784\" stroke=\"#000000\"/>\n</g>\n<!-- 140485956852928 -->\n<g class=\"node\" id=\"node6\">\n<title>140485956852928</title>\n<polygon fill=\"none\" points=\"25.5,-913.5 25.5,-959.5 486.5,-959.5 486.5,-913.5 25.5,-913.5\" stroke=\"#000000\"/>\n<text fill=\"#000000\" font-family=\"Times,serif\" font-size=\"14.00\" text-anchor=\"middle\" x=\"164.5\" y=\"-932.8\">batch_normalization_25: BatchNormalization</text>\n<polyline fill=\"none\" points=\"303.5,-913.5 303.5,-959.5 \" stroke=\"#000000\"/>\n<text fill=\"#000000\" font-family=\"Times,serif\" font-size=\"14.00\" text-anchor=\"middle\" x=\"332.5\" y=\"-944.3\">input:</text>\n<polyline fill=\"none\" points=\"303.5,-936.5 361.5,-936.5 \" stroke=\"#000000\"/>\n<text fill=\"#000000\" font-family=\"Times,serif\" font-size=\"14.00\" text-anchor=\"middle\" x=\"332.5\" y=\"-921.3\">output:</text>\n<polyline fill=\"none\" points=\"361.5,-913.5 361.5,-959.5 \" stroke=\"#000000\"/>\n<text fill=\"#000000\" font-family=\"Times,serif\" font-size=\"14.00\" text-anchor=\"middle\" x=\"424\" y=\"-944.3\">(None, 14, 14, 32)</text>\n<polyline fill=\"none\" points=\"361.5,-936.5 486.5,-936.5 \" stroke=\"#000000\"/>\n<text fill=\"#000000\" font-family=\"Times,serif\" font-size=\"14.00\" text-anchor=\"middle\" x=\"424\" y=\"-921.3\">(None, 14, 14, 32)</text>\n</g>\n<!-- 140485956963744&#45;&gt;140485956852928 -->\n<g class=\"edge\" id=\"edge5\">\n<title>140485956963744-&gt;140485956852928</title>\n<path d=\"M256,-996.3799C256,-988.1745 256,-978.7679 256,-969.8786\" fill=\"none\" stroke=\"#000000\"/>\n<polygon fill=\"#000000\" points=\"259.5001,-969.784 256,-959.784 252.5001,-969.784 259.5001,-969.784\" stroke=\"#000000\"/>\n</g>\n<!-- 140485956564304 -->\n<g class=\"node\" id=\"node7\">\n<title>140485956564304</title>\n<polygon fill=\"none\" points=\"84,-830.5 84,-876.5 428,-876.5 428,-830.5 84,-830.5\" stroke=\"#000000\"/>\n<text fill=\"#000000\" font-family=\"Times,serif\" font-size=\"14.00\" text-anchor=\"middle\" x=\"164.5\" y=\"-849.8\">activation_26: Activation</text>\n<polyline fill=\"none\" points=\"245,-830.5 245,-876.5 \" stroke=\"#000000\"/>\n<text fill=\"#000000\" font-family=\"Times,serif\" font-size=\"14.00\" text-anchor=\"middle\" x=\"274\" y=\"-861.3\">input:</text>\n<polyline fill=\"none\" points=\"245,-853.5 303,-853.5 \" stroke=\"#000000\"/>\n<text fill=\"#000000\" font-family=\"Times,serif\" font-size=\"14.00\" text-anchor=\"middle\" x=\"274\" y=\"-838.3\">output:</text>\n<polyline fill=\"none\" points=\"303,-830.5 303,-876.5 \" stroke=\"#000000\"/>\n<text fill=\"#000000\" font-family=\"Times,serif\" font-size=\"14.00\" text-anchor=\"middle\" x=\"365.5\" y=\"-861.3\">(None, 14, 14, 32)</text>\n<polyline fill=\"none\" points=\"303,-853.5 428,-853.5 \" stroke=\"#000000\"/>\n<text fill=\"#000000\" font-family=\"Times,serif\" font-size=\"14.00\" text-anchor=\"middle\" x=\"365.5\" y=\"-838.3\">(None, 14, 14, 32)</text>\n</g>\n<!-- 140485956852928&#45;&gt;140485956564304 -->\n<g class=\"edge\" id=\"edge6\">\n<title>140485956852928-&gt;140485956564304</title>\n<path d=\"M256,-913.3799C256,-905.1745 256,-895.7679 256,-886.8786\" fill=\"none\" stroke=\"#000000\"/>\n<polygon fill=\"#000000\" points=\"259.5001,-886.784 256,-876.784 252.5001,-886.784 259.5001,-886.784\" stroke=\"#000000\"/>\n</g>\n<!-- 140485956203072 -->\n<g class=\"node\" id=\"node8\">\n<title>140485956203072</title>\n<polygon fill=\"none\" points=\"94.5,-747.5 94.5,-793.5 417.5,-793.5 417.5,-747.5 94.5,-747.5\" stroke=\"#000000\"/>\n<text fill=\"#000000\" font-family=\"Times,serif\" font-size=\"14.00\" text-anchor=\"middle\" x=\"164.5\" y=\"-766.8\">conv2d_27: Conv2D</text>\n<polyline fill=\"none\" points=\"234.5,-747.5 234.5,-793.5 \" stroke=\"#000000\"/>\n<text fill=\"#000000\" font-family=\"Times,serif\" font-size=\"14.00\" text-anchor=\"middle\" x=\"263.5\" y=\"-778.3\">input:</text>\n<polyline fill=\"none\" points=\"234.5,-770.5 292.5,-770.5 \" stroke=\"#000000\"/>\n<text fill=\"#000000\" font-family=\"Times,serif\" font-size=\"14.00\" text-anchor=\"middle\" x=\"263.5\" y=\"-755.3\">output:</text>\n<polyline fill=\"none\" points=\"292.5,-747.5 292.5,-793.5 \" stroke=\"#000000\"/>\n<text fill=\"#000000\" font-family=\"Times,serif\" font-size=\"14.00\" text-anchor=\"middle\" x=\"355\" y=\"-778.3\">(None, 14, 14, 32)</text>\n<polyline fill=\"none\" points=\"292.5,-770.5 417.5,-770.5 \" stroke=\"#000000\"/>\n<text fill=\"#000000\" font-family=\"Times,serif\" font-size=\"14.00\" text-anchor=\"middle\" x=\"355\" y=\"-755.3\">(None, 14, 14, 32)</text>\n</g>\n<!-- 140485956564304&#45;&gt;140485956203072 -->\n<g class=\"edge\" id=\"edge7\">\n<title>140485956564304-&gt;140485956203072</title>\n<path d=\"M256,-830.3799C256,-822.1745 256,-812.7679 256,-803.8786\" fill=\"none\" stroke=\"#000000\"/>\n<polygon fill=\"#000000\" points=\"259.5001,-803.784 256,-793.784 252.5001,-803.784 259.5001,-803.784\" stroke=\"#000000\"/>\n</g>\n<!-- 140485955760704 -->\n<g class=\"node\" id=\"node9\">\n<title>140485955760704</title>\n<polygon fill=\"none\" points=\"25.5,-664.5 25.5,-710.5 486.5,-710.5 486.5,-664.5 25.5,-664.5\" stroke=\"#000000\"/>\n<text fill=\"#000000\" font-family=\"Times,serif\" font-size=\"14.00\" text-anchor=\"middle\" x=\"164.5\" y=\"-683.8\">batch_normalization_26: BatchNormalization</text>\n<polyline fill=\"none\" points=\"303.5,-664.5 303.5,-710.5 \" stroke=\"#000000\"/>\n<text fill=\"#000000\" font-family=\"Times,serif\" font-size=\"14.00\" text-anchor=\"middle\" x=\"332.5\" y=\"-695.3\">input:</text>\n<polyline fill=\"none\" points=\"303.5,-687.5 361.5,-687.5 \" stroke=\"#000000\"/>\n<text fill=\"#000000\" font-family=\"Times,serif\" font-size=\"14.00\" text-anchor=\"middle\" x=\"332.5\" y=\"-672.3\">output:</text>\n<polyline fill=\"none\" points=\"361.5,-664.5 361.5,-710.5 \" stroke=\"#000000\"/>\n<text fill=\"#000000\" font-family=\"Times,serif\" font-size=\"14.00\" text-anchor=\"middle\" x=\"424\" y=\"-695.3\">(None, 14, 14, 32)</text>\n<polyline fill=\"none\" points=\"361.5,-687.5 486.5,-687.5 \" stroke=\"#000000\"/>\n<text fill=\"#000000\" font-family=\"Times,serif\" font-size=\"14.00\" text-anchor=\"middle\" x=\"424\" y=\"-672.3\">(None, 14, 14, 32)</text>\n</g>\n<!-- 140485956203072&#45;&gt;140485955760704 -->\n<g class=\"edge\" id=\"edge8\">\n<title>140485956203072-&gt;140485955760704</title>\n<path d=\"M256,-747.3799C256,-739.1745 256,-729.7679 256,-720.8786\" fill=\"none\" stroke=\"#000000\"/>\n<polygon fill=\"#000000\" points=\"259.5001,-720.784 256,-710.784 252.5001,-720.784 259.5001,-720.784\" stroke=\"#000000\"/>\n</g>\n<!-- 140485955478864 -->\n<g class=\"node\" id=\"node10\">\n<title>140485955478864</title>\n<polygon fill=\"none\" points=\"84,-581.5 84,-627.5 428,-627.5 428,-581.5 84,-581.5\" stroke=\"#000000\"/>\n<text fill=\"#000000\" font-family=\"Times,serif\" font-size=\"14.00\" text-anchor=\"middle\" x=\"164.5\" y=\"-600.8\">activation_27: Activation</text>\n<polyline fill=\"none\" points=\"245,-581.5 245,-627.5 \" stroke=\"#000000\"/>\n<text fill=\"#000000\" font-family=\"Times,serif\" font-size=\"14.00\" text-anchor=\"middle\" x=\"274\" y=\"-612.3\">input:</text>\n<polyline fill=\"none\" points=\"245,-604.5 303,-604.5 \" stroke=\"#000000\"/>\n<text fill=\"#000000\" font-family=\"Times,serif\" font-size=\"14.00\" text-anchor=\"middle\" x=\"274\" y=\"-589.3\">output:</text>\n<polyline fill=\"none\" points=\"303,-581.5 303,-627.5 \" stroke=\"#000000\"/>\n<text fill=\"#000000\" font-family=\"Times,serif\" font-size=\"14.00\" text-anchor=\"middle\" x=\"365.5\" y=\"-612.3\">(None, 14, 14, 32)</text>\n<polyline fill=\"none\" points=\"303,-604.5 428,-604.5 \" stroke=\"#000000\"/>\n<text fill=\"#000000\" font-family=\"Times,serif\" font-size=\"14.00\" text-anchor=\"middle\" x=\"365.5\" y=\"-589.3\">(None, 14, 14, 32)</text>\n</g>\n<!-- 140485955760704&#45;&gt;140485955478864 -->\n<g class=\"edge\" id=\"edge9\">\n<title>140485955760704-&gt;140485955478864</title>\n<path d=\"M256,-664.3799C256,-656.1745 256,-646.7679 256,-637.8786\" fill=\"none\" stroke=\"#000000\"/>\n<polygon fill=\"#000000\" points=\"259.5001,-637.784 256,-627.784 252.5001,-637.784 259.5001,-637.784\" stroke=\"#000000\"/>\n</g>\n<!-- 140485955111288 -->\n<g class=\"node\" id=\"node11\">\n<title>140485955111288</title>\n<polygon fill=\"none\" points=\"94.5,-498.5 94.5,-544.5 417.5,-544.5 417.5,-498.5 94.5,-498.5\" stroke=\"#000000\"/>\n<text fill=\"#000000\" font-family=\"Times,serif\" font-size=\"14.00\" text-anchor=\"middle\" x=\"164.5\" y=\"-517.8\">conv2d_28: Conv2D</text>\n<polyline fill=\"none\" points=\"234.5,-498.5 234.5,-544.5 \" stroke=\"#000000\"/>\n<text fill=\"#000000\" font-family=\"Times,serif\" font-size=\"14.00\" text-anchor=\"middle\" x=\"263.5\" y=\"-529.3\">input:</text>\n<polyline fill=\"none\" points=\"234.5,-521.5 292.5,-521.5 \" stroke=\"#000000\"/>\n<text fill=\"#000000\" font-family=\"Times,serif\" font-size=\"14.00\" text-anchor=\"middle\" x=\"263.5\" y=\"-506.3\">output:</text>\n<polyline fill=\"none\" points=\"292.5,-498.5 292.5,-544.5 \" stroke=\"#000000\"/>\n<text fill=\"#000000\" font-family=\"Times,serif\" font-size=\"14.00\" text-anchor=\"middle\" x=\"355\" y=\"-529.3\">(None, 14, 14, 32)</text>\n<polyline fill=\"none\" points=\"292.5,-521.5 417.5,-521.5 \" stroke=\"#000000\"/>\n<text fill=\"#000000\" font-family=\"Times,serif\" font-size=\"14.00\" text-anchor=\"middle\" x=\"355\" y=\"-506.3\">(None, 7, 7, 64)</text>\n</g>\n<!-- 140485955478864&#45;&gt;140485955111288 -->\n<g class=\"edge\" id=\"edge10\">\n<title>140485955478864-&gt;140485955111288</title>\n<path d=\"M256,-581.3799C256,-573.1745 256,-563.7679 256,-554.8786\" fill=\"none\" stroke=\"#000000\"/>\n<polygon fill=\"#000000\" points=\"259.5001,-554.784 256,-544.784 252.5001,-554.784 259.5001,-554.784\" stroke=\"#000000\"/>\n</g>\n<!-- 140485954498912 -->\n<g class=\"node\" id=\"node12\">\n<title>140485954498912</title>\n<polygon fill=\"none\" points=\"33,-415.5 33,-461.5 479,-461.5 479,-415.5 33,-415.5\" stroke=\"#000000\"/>\n<text fill=\"#000000\" font-family=\"Times,serif\" font-size=\"14.00\" text-anchor=\"middle\" x=\"172\" y=\"-434.8\">batch_normalization_27: BatchNormalization</text>\n<polyline fill=\"none\" points=\"311,-415.5 311,-461.5 \" stroke=\"#000000\"/>\n<text fill=\"#000000\" font-family=\"Times,serif\" font-size=\"14.00\" text-anchor=\"middle\" x=\"340\" y=\"-446.3\">input:</text>\n<polyline fill=\"none\" points=\"311,-438.5 369,-438.5 \" stroke=\"#000000\"/>\n<text fill=\"#000000\" font-family=\"Times,serif\" font-size=\"14.00\" text-anchor=\"middle\" x=\"340\" y=\"-423.3\">output:</text>\n<polyline fill=\"none\" points=\"369,-415.5 369,-461.5 \" stroke=\"#000000\"/>\n<text fill=\"#000000\" font-family=\"Times,serif\" font-size=\"14.00\" text-anchor=\"middle\" x=\"424\" y=\"-446.3\">(None, 7, 7, 64)</text>\n<polyline fill=\"none\" points=\"369,-438.5 479,-438.5 \" stroke=\"#000000\"/>\n<text fill=\"#000000\" font-family=\"Times,serif\" font-size=\"14.00\" text-anchor=\"middle\" x=\"424\" y=\"-423.3\">(None, 7, 7, 64)</text>\n</g>\n<!-- 140485955111288&#45;&gt;140485954498912 -->\n<g class=\"edge\" id=\"edge11\">\n<title>140485955111288-&gt;140485954498912</title>\n<path d=\"M256,-498.3799C256,-490.1745 256,-480.7679 256,-471.8786\" fill=\"none\" stroke=\"#000000\"/>\n<polygon fill=\"#000000\" points=\"259.5001,-471.784 256,-461.784 252.5001,-471.784 259.5001,-471.784\" stroke=\"#000000\"/>\n</g>\n<!-- 140485954542448 -->\n<g class=\"node\" id=\"node13\">\n<title>140485954542448</title>\n<polygon fill=\"none\" points=\"91.5,-332.5 91.5,-378.5 420.5,-378.5 420.5,-332.5 91.5,-332.5\" stroke=\"#000000\"/>\n<text fill=\"#000000\" font-family=\"Times,serif\" font-size=\"14.00\" text-anchor=\"middle\" x=\"172\" y=\"-351.8\">activation_28: Activation</text>\n<polyline fill=\"none\" points=\"252.5,-332.5 252.5,-378.5 \" stroke=\"#000000\"/>\n<text fill=\"#000000\" font-family=\"Times,serif\" font-size=\"14.00\" text-anchor=\"middle\" x=\"281.5\" y=\"-363.3\">input:</text>\n<polyline fill=\"none\" points=\"252.5,-355.5 310.5,-355.5 \" stroke=\"#000000\"/>\n<text fill=\"#000000\" font-family=\"Times,serif\" font-size=\"14.00\" text-anchor=\"middle\" x=\"281.5\" y=\"-340.3\">output:</text>\n<polyline fill=\"none\" points=\"310.5,-332.5 310.5,-378.5 \" stroke=\"#000000\"/>\n<text fill=\"#000000\" font-family=\"Times,serif\" font-size=\"14.00\" text-anchor=\"middle\" x=\"365.5\" y=\"-363.3\">(None, 7, 7, 64)</text>\n<polyline fill=\"none\" points=\"310.5,-355.5 420.5,-355.5 \" stroke=\"#000000\"/>\n<text fill=\"#000000\" font-family=\"Times,serif\" font-size=\"14.00\" text-anchor=\"middle\" x=\"365.5\" y=\"-340.3\">(None, 7, 7, 64)</text>\n</g>\n<!-- 140485954498912&#45;&gt;140485954542448 -->\n<g class=\"edge\" id=\"edge12\">\n<title>140485954498912-&gt;140485954542448</title>\n<path d=\"M256,-415.3799C256,-407.1745 256,-397.7679 256,-388.8786\" fill=\"none\" stroke=\"#000000\"/>\n<polygon fill=\"#000000\" points=\"259.5001,-388.784 256,-378.784 252.5001,-388.784 259.5001,-388.784\" stroke=\"#000000\"/>\n</g>\n<!-- 140485954026968 -->\n<g class=\"node\" id=\"node14\">\n<title>140485954026968</title>\n<polygon fill=\"none\" points=\"102,-249.5 102,-295.5 410,-295.5 410,-249.5 102,-249.5\" stroke=\"#000000\"/>\n<text fill=\"#000000\" font-family=\"Times,serif\" font-size=\"14.00\" text-anchor=\"middle\" x=\"172\" y=\"-268.8\">conv2d_29: Conv2D</text>\n<polyline fill=\"none\" points=\"242,-249.5 242,-295.5 \" stroke=\"#000000\"/>\n<text fill=\"#000000\" font-family=\"Times,serif\" font-size=\"14.00\" text-anchor=\"middle\" x=\"271\" y=\"-280.3\">input:</text>\n<polyline fill=\"none\" points=\"242,-272.5 300,-272.5 \" stroke=\"#000000\"/>\n<text fill=\"#000000\" font-family=\"Times,serif\" font-size=\"14.00\" text-anchor=\"middle\" x=\"271\" y=\"-257.3\">output:</text>\n<polyline fill=\"none\" points=\"300,-249.5 300,-295.5 \" stroke=\"#000000\"/>\n<text fill=\"#000000\" font-family=\"Times,serif\" font-size=\"14.00\" text-anchor=\"middle\" x=\"355\" y=\"-280.3\">(None, 7, 7, 64)</text>\n<polyline fill=\"none\" points=\"300,-272.5 410,-272.5 \" stroke=\"#000000\"/>\n<text fill=\"#000000\" font-family=\"Times,serif\" font-size=\"14.00\" text-anchor=\"middle\" x=\"355\" y=\"-257.3\">(None, 7, 7, 10)</text>\n</g>\n<!-- 140485954542448&#45;&gt;140485954026968 -->\n<g class=\"edge\" id=\"edge13\">\n<title>140485954542448-&gt;140485954026968</title>\n<path d=\"M256,-332.3799C256,-324.1745 256,-314.7679 256,-305.8786\" fill=\"none\" stroke=\"#000000\"/>\n<polygon fill=\"#000000\" points=\"259.5001,-305.784 256,-295.784 252.5001,-305.784 259.5001,-305.784\" stroke=\"#000000\"/>\n</g>\n<!-- 140485953373240 -->\n<g class=\"node\" id=\"node15\">\n<title>140485953373240</title>\n<polygon fill=\"none\" points=\"33,-166.5 33,-212.5 479,-212.5 479,-166.5 33,-166.5\" stroke=\"#000000\"/>\n<text fill=\"#000000\" font-family=\"Times,serif\" font-size=\"14.00\" text-anchor=\"middle\" x=\"172\" y=\"-185.8\">batch_normalization_28: BatchNormalization</text>\n<polyline fill=\"none\" points=\"311,-166.5 311,-212.5 \" stroke=\"#000000\"/>\n<text fill=\"#000000\" font-family=\"Times,serif\" font-size=\"14.00\" text-anchor=\"middle\" x=\"340\" y=\"-197.3\">input:</text>\n<polyline fill=\"none\" points=\"311,-189.5 369,-189.5 \" stroke=\"#000000\"/>\n<text fill=\"#000000\" font-family=\"Times,serif\" font-size=\"14.00\" text-anchor=\"middle\" x=\"340\" y=\"-174.3\">output:</text>\n<polyline fill=\"none\" points=\"369,-166.5 369,-212.5 \" stroke=\"#000000\"/>\n<text fill=\"#000000\" font-family=\"Times,serif\" font-size=\"14.00\" text-anchor=\"middle\" x=\"424\" y=\"-197.3\">(None, 7, 7, 10)</text>\n<polyline fill=\"none\" points=\"369,-189.5 479,-189.5 \" stroke=\"#000000\"/>\n<text fill=\"#000000\" font-family=\"Times,serif\" font-size=\"14.00\" text-anchor=\"middle\" x=\"424\" y=\"-174.3\">(None, 7, 7, 10)</text>\n</g>\n<!-- 140485954026968&#45;&gt;140485953373240 -->\n<g class=\"edge\" id=\"edge14\">\n<title>140485954026968-&gt;140485953373240</title>\n<path d=\"M256,-249.3799C256,-241.1745 256,-231.7679 256,-222.8786\" fill=\"none\" stroke=\"#000000\"/>\n<polygon fill=\"#000000\" points=\"259.5001,-222.784 256,-212.784 252.5001,-222.784 259.5001,-222.784\" stroke=\"#000000\"/>\n</g>\n<!-- 140485953457680 -->\n<g class=\"node\" id=\"node16\">\n<title>140485953457680</title>\n<polygon fill=\"none\" points=\"0,-83.5 0,-129.5 512,-129.5 512,-83.5 0,-83.5\" stroke=\"#000000\"/>\n<text fill=\"#000000\" font-family=\"Times,serif\" font-size=\"14.00\" text-anchor=\"middle\" x=\"172\" y=\"-102.8\">global_average_pooling2d_9: GlobalAveragePooling2D</text>\n<polyline fill=\"none\" points=\"344,-83.5 344,-129.5 \" stroke=\"#000000\"/>\n<text fill=\"#000000\" font-family=\"Times,serif\" font-size=\"14.00\" text-anchor=\"middle\" x=\"373\" y=\"-114.3\">input:</text>\n<polyline fill=\"none\" points=\"344,-106.5 402,-106.5 \" stroke=\"#000000\"/>\n<text fill=\"#000000\" font-family=\"Times,serif\" font-size=\"14.00\" text-anchor=\"middle\" x=\"373\" y=\"-91.3\">output:</text>\n<polyline fill=\"none\" points=\"402,-83.5 402,-129.5 \" stroke=\"#000000\"/>\n<text fill=\"#000000\" font-family=\"Times,serif\" font-size=\"14.00\" text-anchor=\"middle\" x=\"457\" y=\"-114.3\">(None, 7, 7, 10)</text>\n<polyline fill=\"none\" points=\"402,-106.5 512,-106.5 \" stroke=\"#000000\"/>\n<text fill=\"#000000\" font-family=\"Times,serif\" font-size=\"14.00\" text-anchor=\"middle\" x=\"457\" y=\"-91.3\">(None, 10)</text>\n</g>\n<!-- 140485953373240&#45;&gt;140485953457680 -->\n<g class=\"edge\" id=\"edge15\">\n<title>140485953373240-&gt;140485953457680</title>\n<path d=\"M256,-166.3799C256,-158.1745 256,-148.7679 256,-139.8786\" fill=\"none\" stroke=\"#000000\"/>\n<polygon fill=\"#000000\" points=\"259.5001,-139.784 256,-129.784 252.5001,-139.784 259.5001,-139.784\" stroke=\"#000000\"/>\n</g>\n<!-- 140485952911568 -->\n<g class=\"node\" id=\"node17\">\n<title>140485952911568</title>\n<polygon fill=\"none\" points=\"106.5,-.5 106.5,-46.5 405.5,-46.5 405.5,-.5 106.5,-.5\" stroke=\"#000000\"/>\n<text fill=\"#000000\" font-family=\"Times,serif\" font-size=\"14.00\" text-anchor=\"middle\" x=\"187\" y=\"-19.8\">activation_29: Activation</text>\n<polyline fill=\"none\" points=\"267.5,-.5 267.5,-46.5 \" stroke=\"#000000\"/>\n<text fill=\"#000000\" font-family=\"Times,serif\" font-size=\"14.00\" text-anchor=\"middle\" x=\"296.5\" y=\"-31.3\">input:</text>\n<polyline fill=\"none\" points=\"267.5,-23.5 325.5,-23.5 \" stroke=\"#000000\"/>\n<text fill=\"#000000\" font-family=\"Times,serif\" font-size=\"14.00\" text-anchor=\"middle\" x=\"296.5\" y=\"-8.3\">output:</text>\n<polyline fill=\"none\" points=\"325.5,-.5 325.5,-46.5 \" stroke=\"#000000\"/>\n<text fill=\"#000000\" font-family=\"Times,serif\" font-size=\"14.00\" text-anchor=\"middle\" x=\"365.5\" y=\"-31.3\">(None, 10)</text>\n<polyline fill=\"none\" points=\"325.5,-23.5 405.5,-23.5 \" stroke=\"#000000\"/>\n<text fill=\"#000000\" font-family=\"Times,serif\" font-size=\"14.00\" text-anchor=\"middle\" x=\"365.5\" y=\"-8.3\">(None, 10)</text>\n</g>\n<!-- 140485953457680&#45;&gt;140485952911568 -->\n<g class=\"edge\" id=\"edge16\">\n<title>140485953457680-&gt;140485952911568</title>\n<path d=\"M256,-83.3799C256,-75.1745 256,-65.7679 256,-56.8786\" fill=\"none\" stroke=\"#000000\"/>\n<polygon fill=\"#000000\" points=\"259.5001,-56.784 256,-46.784 252.5001,-56.784 259.5001,-56.784\" stroke=\"#000000\"/>\n</g>\n</g>\n</svg>"
          },
          "metadata": {
            "tags": []
          },
          "execution_count": 208
        }
      ]
    },
    {
      "cell_type": "markdown",
      "metadata": {
        "id": "48n8hIcxidC-",
        "colab_type": "text"
      },
      "source": [
        "# 訓練する"
      ]
    },
    {
      "cell_type": "code",
      "metadata": {
        "id": "qO-LnGccL8Gl",
        "colab_type": "code",
        "outputId": "3ab96c0b-79ba-4592-b579-d5c51811da9a",
        "colab": {
          "base_uri": "https://localhost:8080/",
          "height": 714
        }
      },
      "source": [
        "hist = predictor.fit(\n",
        "    x = x_input_train,\n",
        "    y = y_output_train,\n",
        "    batch_size=100,\n",
        "    epochs = 20,\n",
        "    validation_data = (x_input_val, y_output_val),\n",
        ")"
      ],
      "execution_count": 0,
      "outputs": [
        {
          "output_type": "stream",
          "text": [
            "Train on 50000 samples, validate on 10000 samples\n",
            "Epoch 1/20\n",
            "50000/50000 [==============================] - 12s 235us/step - loss: 0.7881 - val_loss: 0.4671\n",
            "Epoch 2/20\n",
            "50000/50000 [==============================] - 8s 159us/step - loss: 0.3358 - val_loss: 0.2489\n",
            "Epoch 3/20\n",
            "50000/50000 [==============================] - 8s 160us/step - loss: 0.2154 - val_loss: 0.2521\n",
            "Epoch 4/20\n",
            "50000/50000 [==============================] - 8s 160us/step - loss: 0.1559 - val_loss: 0.1375\n",
            "Epoch 5/20\n",
            "50000/50000 [==============================] - 8s 161us/step - loss: 0.1199 - val_loss: 0.1202\n",
            "Epoch 6/20\n",
            "50000/50000 [==============================] - 8s 160us/step - loss: 0.0952 - val_loss: 0.1343\n",
            "Epoch 7/20\n",
            "50000/50000 [==============================] - 8s 166us/step - loss: 0.0781 - val_loss: 0.0845\n",
            "Epoch 8/20\n",
            "50000/50000 [==============================] - 8s 161us/step - loss: 0.0659 - val_loss: 0.0914\n",
            "Epoch 9/20\n",
            "50000/50000 [==============================] - 8s 159us/step - loss: 0.0565 - val_loss: 0.1007\n",
            "Epoch 10/20\n",
            "50000/50000 [==============================] - 8s 161us/step - loss: 0.0490 - val_loss: 0.0601\n",
            "Epoch 11/20\n",
            "50000/50000 [==============================] - 7s 135us/step - loss: 0.0419 - val_loss: 0.1511\n",
            "Epoch 12/20\n",
            "50000/50000 [==============================] - 5s 97us/step - loss: 0.0363 - val_loss: 0.0516\n",
            "Epoch 13/20\n",
            "50000/50000 [==============================] - 5s 96us/step - loss: 0.0316 - val_loss: 0.0632\n",
            "Epoch 14/20\n",
            "50000/50000 [==============================] - 5s 97us/step - loss: 0.0283 - val_loss: 0.0602\n",
            "Epoch 15/20\n",
            "50000/50000 [==============================] - 5s 97us/step - loss: 0.0244 - val_loss: 0.0668\n",
            "Epoch 16/20\n",
            "50000/50000 [==============================] - 5s 96us/step - loss: 0.0219 - val_loss: 0.0654\n",
            "Epoch 17/20\n",
            "50000/50000 [==============================] - 5s 96us/step - loss: 0.0198 - val_loss: 0.0933\n",
            "Epoch 18/20\n",
            "50000/50000 [==============================] - 5s 97us/step - loss: 0.0173 - val_loss: 0.0534\n",
            "Epoch 19/20\n",
            "50000/50000 [==============================] - 5s 96us/step - loss: 0.0147 - val_loss: 0.0916\n",
            "Epoch 20/20\n",
            "50000/50000 [==============================] - 5s 98us/step - loss: 0.0138 - val_loss: 0.0385\n"
          ],
          "name": "stdout"
        }
      ]
    },
    {
      "cell_type": "code",
      "metadata": {
        "id": "nHE7-5jsMWhN",
        "colab_type": "code",
        "outputId": "4cd131ee-564e-4fc3-c3e9-ddb02626a07e",
        "colab": {
          "base_uri": "https://localhost:8080/",
          "height": 697
        }
      },
      "source": [
        "hist.history"
      ],
      "execution_count": 0,
      "outputs": [
        {
          "output_type": "execute_result",
          "data": {
            "text/plain": [
              "{'loss': [0.7880935510993003,\n",
              "  0.3357834879159927,\n",
              "  0.2153834563791752,\n",
              "  0.15594873321056366,\n",
              "  0.11993046601861715,\n",
              "  0.0951636492460966,\n",
              "  0.0781377060264349,\n",
              "  0.06591904440522194,\n",
              "  0.056468807965517044,\n",
              "  0.04899914848059416,\n",
              "  0.041898174680769444,\n",
              "  0.036339225901290774,\n",
              "  0.03160785274021328,\n",
              "  0.028337585363537074,\n",
              "  0.024434575472027063,\n",
              "  0.021911694483831526,\n",
              "  0.019755636396817863,\n",
              "  0.017313169624656437,\n",
              "  0.014691527940798551,\n",
              "  0.013815108737442643],\n",
              " 'val_loss': [0.4671429488062859,\n",
              "  0.24891194388270377,\n",
              "  0.2521158228069544,\n",
              "  0.1374983985349536,\n",
              "  0.12022523414343596,\n",
              "  0.1342546119913459,\n",
              "  0.08448758568614721,\n",
              "  0.09135599603876471,\n",
              "  0.10068965209648013,\n",
              "  0.060074993129819634,\n",
              "  0.15113227244466543,\n",
              "  0.05156740322709084,\n",
              "  0.06318134865257889,\n",
              "  0.06022432126104832,\n",
              "  0.0668417846923694,\n",
              "  0.06544626015238464,\n",
              "  0.09327259648125619,\n",
              "  0.05341283787507564,\n",
              "  0.09162436778657139,\n",
              "  0.03845846266602166]}"
            ]
          },
          "metadata": {
            "tags": []
          },
          "execution_count": 210
        }
      ]
    },
    {
      "cell_type": "code",
      "metadata": {
        "id": "8zoovqCwN1IS",
        "colab_type": "code",
        "outputId": "eaa24dce-c9da-428f-a1f3-6eacc3df8dc6",
        "colab": {
          "base_uri": "https://localhost:8080/",
          "height": 286
        }
      },
      "source": [
        "plt.plot(hist.history['loss'], label='train')\n",
        "plt.plot(hist.history['val_loss'], label='val')\n",
        "plt.legend()"
      ],
      "execution_count": 0,
      "outputs": [
        {
          "output_type": "execute_result",
          "data": {
            "text/plain": [
              "<matplotlib.legend.Legend at 0x7fc575a2ff98>"
            ]
          },
          "metadata": {
            "tags": []
          },
          "execution_count": 211
        },
        {
          "output_type": "display_data",
          "data": {
            "image/png": "[encoded data removed]",
            "text/plain": [
              "<Figure size 432x288 with 1 Axes>"
            ]
          },
          "metadata": {
            "tags": []
          }
        }
      ]
    },
    {
      "cell_type": "markdown",
      "metadata": {
        "id": "qPe41OGGifVS",
        "colab_type": "text"
      },
      "source": [
        "# テストする"
      ]
    },
    {
      "cell_type": "code",
      "metadata": {
        "id": "j8l2hx7cSmmk",
        "colab_type": "code",
        "colab": {}
      },
      "source": [
        "pred = predictor.predict(x_input_test)"
      ],
      "execution_count": 0,
      "outputs": []
    },
    {
      "cell_type": "code",
      "metadata": {
        "id": "V6ZVs99-S5aC",
        "colab_type": "code",
        "outputId": "df2771dc-bbc5-4e04-dfdb-4767e62102c0",
        "colab": {
          "base_uri": "https://localhost:8080/",
          "height": 298
        }
      },
      "source": [
        "plt.imshow(x_input_test[0].squeeze())\n",
        "plt.title(pred[0].argmax())"
      ],
      "execution_count": 0,
      "outputs": [
        {
          "output_type": "execute_result",
          "data": {
            "text/plain": [
              "Text(0.5, 1.0, '7')"
            ]
          },
          "metadata": {
            "tags": []
          },
          "execution_count": 213
        },
        {
          "output_type": "display_data",
          "data": {
            "image/png": "[encoded data removed]",
            "text/plain": [
              "<Figure size 432x288 with 1 Axes>"
            ]
          },
          "metadata": {
            "tags": []
          }
        }
      ]
    },
    {
      "cell_type": "code",
      "metadata": {
        "id": "QKHPhvNvnxGV",
        "colab_type": "code",
        "outputId": "60cccb8e-701f-4375-a811-8df75ae85ef0",
        "colab": {
          "base_uri": "https://localhost:8080/",
          "height": 2657
        }
      },
      "source": [
        "for x,y in zip(x_input_test[:10], pred[:10]):\n",
        "  plt.imshow(x.squeeze(), 'gray')\n",
        "  plt.title(y.argmax())\n",
        "  plt.show()"
      ],
      "execution_count": 0,
      "outputs": [
        {
          "output_type": "display_data",
          "data": {
            "image/png": "[encoded data removed]",
            "text/plain": [
              "<Figure size 432x288 with 1 Axes>"
            ]
          },
          "metadata": {
            "tags": []
          }
        },
        {
          "output_type": "display_data",
          "data": {
            "image/png": "[encoded data removed]",
            "text/plain": [
              "<Figure size 432x288 with 1 Axes>"
            ]
          },
          "metadata": {
            "tags": []
          }
        },
        {
          "output_type": "display_data",
          "data": {
            "image/png": "[encoded data removed]",
            "text/plain": [
              "<Figure size 432x288 with 1 Axes>"
            ]
          },
          "metadata": {
            "tags": []
          }
        },
        {
          "output_type": "display_data",
          "data": {
            "image/png": "[encoded data removed]",
            "text/plain": [
              "<Figure size 432x288 with 1 Axes>"
            ]
          },
          "metadata": {
            "tags": []
          }
        },
        {
          "output_type": "display_data",
          "data": {
            "image/png": "[encoded data removed]",
            "text/plain": [
              "<Figure size 432x288 with 1 Axes>"
            ]
          },
          "metadata": {
            "tags": []
          }
        },
        {
          "output_type": "display_data",
          "data": {
            "image/png": "[encoded data removed]",
            "text/plain": [
              "<Figure size 432x288 with 1 Axes>"
            ]
          },
          "metadata": {
            "tags": []
          }
        },
        {
          "output_type": "display_data",
          "data": {
            "image/png": "[encoded data removed]",
            "text/plain": [
              "<Figure size 432x288 with 1 Axes>"
            ]
          },
          "metadata": {
            "tags": []
          }
        },
        {
          "output_type": "display_data",
          "data": {
            "image/png": "[encoded data removed]",
            "text/plain": [
              "<Figure size 432x288 with 1 Axes>"
            ]
          },
          "metadata": {
            "tags": []
          }
        },
        {
          "output_type": "display_data",
          "data": {
            "image/png": "[encoded data removed]",
            "text/plain": [
              "<Figure size 432x288 with 1 Axes>"
            ]
          },
          "metadata": {
            "tags": []
          }
        },
        {
          "output_type": "display_data",
          "data": {
            "image/png": "[encoded data removed]",
            "text/plain": [
              "<Figure size 432x288 with 1 Axes>"
            ]
          },
          "metadata": {
            "tags": []
          }
        }
      ]
    },
    {
      "cell_type": "code",
      "metadata": {
        "id": "wji8fVSMs6Z2",
        "colab_type": "code",
        "outputId": "29f49716-67bf-41c4-dc7f-b6f695b5b153",
        "colab": {
          "base_uri": "https://localhost:8080/",
          "height": 34
        }
      },
      "source": [
        "(pred.argmax(-1)==y_test).sum() / float(len(y_test))"
      ],
      "execution_count": 0,
      "outputs": [
        {
          "output_type": "execute_result",
          "data": {
            "text/plain": [
              "0.9895"
            ]
          },
          "metadata": {
            "tags": []
          },
          "execution_count": 215
        }
      ]
    }
  ]
}