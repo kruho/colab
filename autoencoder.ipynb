{
  "nbformat": 4,
  "nbformat_minor": 0,
  "metadata": {
    "colab": {
      "name": "autoencoder.ipynb",
      "version": "0.3.2",
      "provenance": [],
      "include_colab_link": true
    },
    "kernelspec": {
      "name": "python3",
      "display_name": "Python 3"
    },
    "accelerator": "GPU"
  },
  "cells": [
    {
      "cell_type": "markdown",
      "metadata": {
        "id": "view-in-github",
        "colab_type": "text"
      },
      "source": [
        "<a href=\"https://colab.research.google.com/github/kruho/colab/blob/master/autoencoder.ipynb\" target=\"_parent\"><img src=\"https://colab.research.google.com/assets/colab-badge.svg\" alt=\"Open In Colab\"/></a>"
      ]
    },
    {
      "cell_type": "markdown",
      "metadata": {
        "id": "5bOFj37969CD",
        "colab_type": "text"
      },
      "source": [
        "# MNISTデータをダウンロードする"
      ]
    },
    {
      "cell_type": "code",
      "metadata": {
        "id": "PE2ahkFJE3Gs",
        "colab_type": "code",
        "outputId": "f1c62f02-24dd-478f-c2cc-eca7fae41983",
        "colab": {
          "base_uri": "https://localhost:8080/",
          "height": 68
        }
      },
      "source": [
        "from keras.datasets import mnist\n",
        "\n",
        "(x_train, y_train), (x_test, y_test) = mnist.load_data()"
      ],
      "execution_count": 1,
      "outputs": [
        {
          "output_type": "stream",
          "text": [
            "Using TensorFlow backend.\n"
          ],
          "name": "stderr"
        },
        {
          "output_type": "stream",
          "text": [
            "Downloading data from https://s3.amazonaws.com/img-datasets/mnist.npz\n",
            "11493376/11490434 [==============================] - 10s 1us/step\n"
          ],
          "name": "stdout"
        }
      ]
    },
    {
      "cell_type": "code",
      "metadata": {
        "id": "z1yq_nb6FI8P",
        "colab_type": "code",
        "outputId": "6328c6a8-d5eb-4288-dacd-565fb1d47962",
        "colab": {
          "base_uri": "https://localhost:8080/",
          "height": 34
        }
      },
      "source": [
        "x_train.shape, x_test.shape"
      ],
      "execution_count": 2,
      "outputs": [
        {
          "output_type": "execute_result",
          "data": {
            "text/plain": [
              "((60000, 28, 28), (10000, 28, 28))"
            ]
          },
          "metadata": {
            "tags": []
          },
          "execution_count": 2
        }
      ]
    },
    {
      "cell_type": "code",
      "metadata": {
        "id": "GnEPbXKKFRCZ",
        "colab_type": "code",
        "colab": {
          "base_uri": "https://localhost:8080/",
          "height": 286
        },
        "outputId": "9a8d3bb3-3266-4c6e-8174-76adc8430c42"
      },
      "source": [
        "import matplotlib.pyplot as plt\n",
        "\n",
        "plt.imshow(x_train[1000])"
      ],
      "execution_count": 3,
      "outputs": [
        {
          "output_type": "execute_result",
          "data": {
            "text/plain": [
              "<matplotlib.image.AxesImage at 0x7f2925ff7ef0>"
            ]
          },
          "metadata": {
            "tags": []
          },
          "execution_count": 3
        },
        {
          "output_type": "display_data",
          "data": {
            "image/png": "[encoded data removed]",
            "text/plain": [
              "<Figure size 432x288 with 1 Axes>"
            ]
          },
          "metadata": {
            "tags": []
          }
        }
      ]
    },
    {
      "cell_type": "markdown",
      "metadata": {
        "id": "SMnmxfA17D03",
        "colab_type": "text"
      },
      "source": [
        "# データの前処理"
      ]
    },
    {
      "cell_type": "code",
      "metadata": {
        "id": "_qAQvqvFGviS",
        "colab_type": "code",
        "outputId": "ed4afc12-bcda-43b9-f27b-af66cad9e081",
        "colab": {
          "base_uri": "https://localhost:8080/",
          "height": 34
        }
      },
      "source": [
        "x_train.min(), x_train.max()"
      ],
      "execution_count": 4,
      "outputs": [
        {
          "output_type": "execute_result",
          "data": {
            "text/plain": [
              "(0, 255)"
            ]
          },
          "metadata": {
            "tags": []
          },
          "execution_count": 4
        }
      ]
    },
    {
      "cell_type": "code",
      "metadata": {
        "id": "9eWCMc5THSXy",
        "colab_type": "code",
        "colab": {}
      },
      "source": [
        "x_train = x_train / 255.\n",
        "x_test = x_test / 255."
      ],
      "execution_count": 0,
      "outputs": []
    },
    {
      "cell_type": "code",
      "metadata": {
        "id": "bnfDSHI1Hwfk",
        "colab_type": "code",
        "outputId": "178a8494-1247-49c8-92bd-d19a6292e7d2",
        "colab": {
          "base_uri": "https://localhost:8080/",
          "height": 34
        }
      },
      "source": [
        "x_train.min(), x_train.max()"
      ],
      "execution_count": 6,
      "outputs": [
        {
          "output_type": "execute_result",
          "data": {
            "text/plain": [
              "(0.0, 1.0)"
            ]
          },
          "metadata": {
            "tags": []
          },
          "execution_count": 6
        }
      ]
    },
    {
      "cell_type": "code",
      "metadata": {
        "id": "z5S1daEwJjq9",
        "colab_type": "code",
        "colab": {}
      },
      "source": [
        "x_train = x_train.reshape((60000,28,28,1))"
      ],
      "execution_count": 0,
      "outputs": []
    },
    {
      "cell_type": "code",
      "metadata": {
        "id": "10nNRVIHJsfl",
        "colab_type": "code",
        "colab": {}
      },
      "source": [
        "x_test = x_test.reshape((10000,28,28,1))"
      ],
      "execution_count": 0,
      "outputs": []
    },
    {
      "cell_type": "code",
      "metadata": {
        "id": "f4GuPlFKH3pX",
        "colab_type": "code",
        "colab": {}
      },
      "source": [
        "x_input_train = x_train[:50000]\n",
        "x_output_train = x_train[:50000]\n",
        "\n",
        "x_input_val = x_train[50000:]\n",
        "x_output_val = x_train[50000:]\n",
        "\n",
        "x_input_test = x_test\n",
        "x_output_test = x_test"
      ],
      "execution_count": 0,
      "outputs": []
    },
    {
      "cell_type": "code",
      "metadata": {
        "id": "ZVSz5JeLUCWo",
        "colab_type": "code",
        "colab": {}
      },
      "source": [
        "import numpy as np\n",
        "\n",
        "#x_input_train = x_input_train + np.random.random(size=x_input_train.shape) * 0.5\n",
        "#x_input_val = x_input_val + np.random.random(size=x_input_val.shape) * 0.5\n",
        "#x_input_test = x_input_test + np.random.random(size=x_input_test.shape) * 0.5\n",
        "\n",
        "x_input_train = x_input_train + np.random.random(size=x_input_train.shape) * 5.\n",
        "x_input_val = x_input_val + np.random.random(size=x_input_val.shape) * 5.\n",
        "x_input_test = x_input_test + np.random.random(size=x_input_test.shape) * 5."
      ],
      "execution_count": 0,
      "outputs": []
    },
    {
      "cell_type": "code",
      "metadata": {
        "id": "_iUiCc1qWN1o",
        "colab_type": "code",
        "outputId": "ced479bd-d5b7-457c-c9f4-4f164afd26bd",
        "colab": {
          "base_uri": "https://localhost:8080/",
          "height": 286
        }
      },
      "source": [
        "plt.imshow(x_input_train[1000].squeeze())"
      ],
      "execution_count": 11,
      "outputs": [
        {
          "output_type": "execute_result",
          "data": {
            "text/plain": [
              "<matplotlib.image.AxesImage at 0x7f29237920f0>"
            ]
          },
          "metadata": {
            "tags": []
          },
          "execution_count": 11
        },
        {
          "output_type": "display_data",
          "data": {
            "image/png": "[encoded data removed]",
            "text/plain": [
              "<Figure size 432x288 with 1 Axes>"
            ]
          },
          "metadata": {
            "tags": []
          }
        }
      ]
    },
    {
      "cell_type": "code",
      "metadata": {
        "id": "vveGeaYyWR5d",
        "colab_type": "code",
        "outputId": "7ab68da7-7aee-4c6a-cbff-9185da198033",
        "colab": {
          "base_uri": "https://localhost:8080/",
          "height": 286
        }
      },
      "source": [
        "plt.imshow(x_output_train[1000].squeeze())"
      ],
      "execution_count": 12,
      "outputs": [
        {
          "output_type": "execute_result",
          "data": {
            "text/plain": [
              "<matplotlib.image.AxesImage at 0x7f29236f2278>"
            ]
          },
          "metadata": {
            "tags": []
          },
          "execution_count": 12
        },
        {
          "output_type": "display_data",
          "data": {
            "image/png": "[encoded data removed]",
            "text/plain": [
              "<Figure size 432x288 with 1 Axes>"
            ]
          },
          "metadata": {
            "tags": []
          }
        }
      ]
    },
    {
      "cell_type": "markdown",
      "metadata": {
        "id": "hRvleRMl7Hiq",
        "colab_type": "text"
      },
      "source": [
        "# ニューラルネットを作る"
      ]
    },
    {
      "cell_type": "code",
      "metadata": {
        "id": "q2l-Vg2hIUEo",
        "colab_type": "code",
        "colab": {}
      },
      "source": [
        "from keras.layers import Input, BatchNormalization, Activation, Conv2D, UpSampling2D"
      ],
      "execution_count": 0,
      "outputs": []
    },
    {
      "cell_type": "code",
      "metadata": {
        "id": "znG-NoqwJBLn",
        "colab_type": "code",
        "colab": {}
      },
      "source": [
        "input_tensor = Input((28,28,1))"
      ],
      "execution_count": 0,
      "outputs": []
    },
    {
      "cell_type": "code",
      "metadata": {
        "id": "h7R-KwHFJF5l",
        "colab_type": "code",
        "outputId": "e28c7c97-c58e-49f5-f8ad-d01f8d1f58d2",
        "colab": {
          "base_uri": "https://localhost:8080/",
          "height": 88
        }
      },
      "source": [
        "if False:\n",
        "  h = Activation('relu')(input_tensor)\n",
        "  h = BatchNormalization()(h)\n",
        "  h = Conv2D(16, (3,3), padding='same')(h)\n",
        "\n",
        "  h = Activation('relu')(h)\n",
        "  h = BatchNormalization()(h)\n",
        "  h = Conv2D(1, (3,3), padding='same')(h)\n",
        "\n",
        "  output_tensor = Activation('sigmoid')(h)\n",
        "  \n",
        "if True:\n",
        "  nb_ch = 32\n",
        "  \n",
        "  h = Activation('relu')(input_tensor)\n",
        "  h = BatchNormalization()(h)\n",
        "  h = Conv2D(nb_ch, (3,3), padding='same')(h)\n",
        "  \n",
        "  nb_ch *= 2\n",
        "\n",
        "  h = Activation('relu')(h)\n",
        "  h = BatchNormalization()(h)\n",
        "  h = Conv2D(nb_ch, (3,3), padding='same', strides=2)(h)\n",
        "\n",
        "  h = Activation('relu')(h)\n",
        "  h = BatchNormalization()(h)\n",
        "  h = Conv2D(nb_ch, (3,3), padding='same')(h)\n",
        "\n",
        "  h = UpSampling2D()(h)\n",
        "  nb_ch //= 2\n",
        "\n",
        "  h = Activation('relu')(h)\n",
        "  h = BatchNormalization()(h)\n",
        "  h = Conv2D(nb_ch, (3,3), padding='same')(h)\n",
        "\n",
        "  h = Activation('relu')(h)\n",
        "  h = BatchNormalization()(h)\n",
        "  h = Conv2D(1, (3,3), padding='same')(h)\n",
        "\n",
        "  output_tensor = Activation('sigmoid')(h)"
      ],
      "execution_count": 15,
      "outputs": [
        {
          "output_type": "stream",
          "text": [
            "WARNING:tensorflow:From /usr/local/lib/python3.6/dist-packages/tensorflow/python/framework/op_def_library.py:263: colocate_with (from tensorflow.python.framework.ops) is deprecated and will be removed in a future version.\n",
            "Instructions for updating:\n",
            "Colocations handled automatically by placer.\n"
          ],
          "name": "stdout"
        }
      ]
    },
    {
      "cell_type": "code",
      "metadata": {
        "id": "-jsGF70nKyM_",
        "colab_type": "code",
        "colab": {}
      },
      "source": [
        "from keras.models import Model\n",
        "\n",
        "auto_encoder = Model(input_tensor, output_tensor)"
      ],
      "execution_count": 0,
      "outputs": []
    },
    {
      "cell_type": "code",
      "metadata": {
        "id": "cEGjo2JQL24O",
        "colab_type": "code",
        "colab": {}
      },
      "source": [
        "auto_encoder.compile(loss='mse', optimizer='adam')"
      ],
      "execution_count": 0,
      "outputs": []
    },
    {
      "cell_type": "code",
      "metadata": {
        "id": "AXv-7AStL6pM",
        "colab_type": "code",
        "outputId": "a80e19d1-e725-49ed-cd86-6ad1dd2f2877",
        "colab": {
          "base_uri": "https://localhost:8080/",
          "height": 748
        }
      },
      "source": [
        "auto_encoder.summary()"
      ],
      "execution_count": 18,
      "outputs": [
        {
          "output_type": "stream",
          "text": [
            "_________________________________________________________________\n",
            "Layer (type)                 Output Shape              Param #   \n",
            "=================================================================\n",
            "input_1 (InputLayer)         (None, 28, 28, 1)         0         \n",
            "_________________________________________________________________\n",
            "activation_1 (Activation)    (None, 28, 28, 1)         0         \n",
            "_________________________________________________________________\n",
            "batch_normalization_1 (Batch (None, 28, 28, 1)         4         \n",
            "_________________________________________________________________\n",
            "conv2d_1 (Conv2D)            (None, 28, 28, 32)        320       \n",
            "_________________________________________________________________\n",
            "activation_2 (Activation)    (None, 28, 28, 32)        0         \n",
            "_________________________________________________________________\n",
            "batch_normalization_2 (Batch (None, 28, 28, 32)        128       \n",
            "_________________________________________________________________\n",
            "conv2d_2 (Conv2D)            (None, 14, 14, 64)        18496     \n",
            "_________________________________________________________________\n",
            "activation_3 (Activation)    (None, 14, 14, 64)        0         \n",
            "_________________________________________________________________\n",
            "batch_normalization_3 (Batch (None, 14, 14, 64)        256       \n",
            "_________________________________________________________________\n",
            "conv2d_3 (Conv2D)            (None, 14, 14, 64)        36928     \n",
            "_________________________________________________________________\n",
            "up_sampling2d_1 (UpSampling2 (None, 28, 28, 64)        0         \n",
            "_________________________________________________________________\n",
            "activation_4 (Activation)    (None, 28, 28, 64)        0         \n",
            "_________________________________________________________________\n",
            "batch_normalization_4 (Batch (None, 28, 28, 64)        256       \n",
            "_________________________________________________________________\n",
            "conv2d_4 (Conv2D)            (None, 28, 28, 32)        18464     \n",
            "_________________________________________________________________\n",
            "activation_5 (Activation)    (None, 28, 28, 32)        0         \n",
            "_________________________________________________________________\n",
            "batch_normalization_5 (Batch (None, 28, 28, 32)        128       \n",
            "_________________________________________________________________\n",
            "conv2d_5 (Conv2D)            (None, 28, 28, 1)         289       \n",
            "_________________________________________________________________\n",
            "activation_6 (Activation)    (None, 28, 28, 1)         0         \n",
            "=================================================================\n",
            "Total params: 75,269\n",
            "Trainable params: 74,883\n",
            "Non-trainable params: 386\n",
            "_________________________________________________________________\n"
          ],
          "name": "stdout"
        }
      ]
    },
    {
      "cell_type": "markdown",
      "metadata": {
        "id": "y5eD5oEh7NV7",
        "colab_type": "text"
      },
      "source": [
        "# 訓練する"
      ]
    },
    {
      "cell_type": "code",
      "metadata": {
        "id": "qO-LnGccL8Gl",
        "colab_type": "code",
        "outputId": "f41daf2a-a73b-4163-b58a-bb1a236cd38e",
        "colab": {
          "base_uri": "https://localhost:8080/",
          "height": 785
        }
      },
      "source": [
        "hist = auto_encoder.fit(\n",
        "    x = x_input_train,\n",
        "    y = x_output_train,\n",
        "    epochs = 20,\n",
        "    batch_size=100,\n",
        "    validation_data = (x_input_val, x_output_val),\n",
        ")"
      ],
      "execution_count": 19,
      "outputs": [
        {
          "output_type": "stream",
          "text": [
            "WARNING:tensorflow:From /usr/local/lib/python3.6/dist-packages/tensorflow/python/ops/math_ops.py:3066: to_int32 (from tensorflow.python.ops.math_ops) is deprecated and will be removed in a future version.\n",
            "Instructions for updating:\n",
            "Use tf.cast instead.\n",
            "Train on 50000 samples, validate on 10000 samples\n",
            "Epoch 1/20\n",
            "50000/50000 [==============================] - 17s 344us/step - loss: 0.0345 - val_loss: 0.0258\n",
            "Epoch 2/20\n",
            "50000/50000 [==============================] - 14s 284us/step - loss: 0.0244 - val_loss: 0.0247\n",
            "Epoch 3/20\n",
            "50000/50000 [==============================] - 14s 276us/step - loss: 0.0235 - val_loss: 0.0231\n",
            "Epoch 4/20\n",
            "50000/50000 [==============================] - 14s 274us/step - loss: 0.0230 - val_loss: 0.0230\n",
            "Epoch 5/20\n",
            "50000/50000 [==============================] - 14s 276us/step - loss: 0.0227 - val_loss: 0.0230\n",
            "Epoch 6/20\n",
            "50000/50000 [==============================] - 14s 274us/step - loss: 0.0225 - val_loss: 0.0224\n",
            "Epoch 7/20\n",
            "50000/50000 [==============================] - 14s 287us/step - loss: 0.0223 - val_loss: 0.0226\n",
            "Epoch 8/20\n",
            "50000/50000 [==============================] - 14s 281us/step - loss: 0.0221 - val_loss: 0.0225\n",
            "Epoch 9/20\n",
            "50000/50000 [==============================] - 14s 274us/step - loss: 0.0220 - val_loss: 0.0221\n",
            "Epoch 10/20\n",
            "50000/50000 [==============================] - 14s 271us/step - loss: 0.0219 - val_loss: 0.0222\n",
            "Epoch 11/20\n",
            "50000/50000 [==============================] - 14s 273us/step - loss: 0.0218 - val_loss: 0.0221\n",
            "Epoch 12/20\n",
            "50000/50000 [==============================] - 14s 274us/step - loss: 0.0218 - val_loss: 0.0222\n",
            "Epoch 13/20\n",
            "50000/50000 [==============================] - 14s 272us/step - loss: 0.0216 - val_loss: 0.0219\n",
            "Epoch 14/20\n",
            "50000/50000 [==============================] - 14s 281us/step - loss: 0.0216 - val_loss: 0.0222\n",
            "Epoch 15/20\n",
            "50000/50000 [==============================] - 14s 273us/step - loss: 0.0215 - val_loss: 0.0220\n",
            "Epoch 16/20\n",
            "50000/50000 [==============================] - 14s 274us/step - loss: 0.0215 - val_loss: 0.0220\n",
            "Epoch 17/20\n",
            "50000/50000 [==============================] - 14s 274us/step - loss: 0.0214 - val_loss: 0.0220\n",
            "Epoch 18/20\n",
            "50000/50000 [==============================] - 14s 273us/step - loss: 0.0214 - val_loss: 0.0220\n",
            "Epoch 19/20\n",
            "50000/50000 [==============================] - 14s 274us/step - loss: 0.0214 - val_loss: 0.0219\n",
            "Epoch 20/20\n",
            "50000/50000 [==============================] - 14s 280us/step - loss: 0.0213 - val_loss: 0.0220\n"
          ],
          "name": "stdout"
        }
      ]
    },
    {
      "cell_type": "code",
      "metadata": {
        "id": "nHE7-5jsMWhN",
        "colab_type": "code",
        "outputId": "88f92a5c-3e4b-4239-d122-46b2eefdd081",
        "colab": {
          "base_uri": "https://localhost:8080/",
          "height": 697
        }
      },
      "source": [
        "hist.history"
      ],
      "execution_count": 20,
      "outputs": [
        {
          "output_type": "execute_result",
          "data": {
            "text/plain": [
              "{'loss': [0.03448050152361393,\n",
              "  0.02443439759016037,\n",
              "  0.02353264403820038,\n",
              "  0.023004140379428863,\n",
              "  0.02270786637544632,\n",
              "  0.022454192712306975,\n",
              "  0.02228545601904392,\n",
              "  0.022104787316322327,\n",
              "  0.02201398878157139,\n",
              "  0.02189682260334492,\n",
              "  0.021810972191095353,\n",
              "  0.021752432565689088,\n",
              "  0.02164935424923897,\n",
              "  0.02160626489698887,\n",
              "  0.02153317525625229,\n",
              "  0.021482100186347962,\n",
              "  0.02143995268523693,\n",
              "  0.021375103794932366,\n",
              "  0.021363650656938554,\n",
              "  0.02133512760281563],\n",
              " 'val_loss': [0.025781106334924697,\n",
              "  0.0247467467546463,\n",
              "  0.0230521354585886,\n",
              "  0.02304346268773079,\n",
              "  0.023015006440877915,\n",
              "  0.022438674515485764,\n",
              "  0.0226410305082798,\n",
              "  0.022540189066529274,\n",
              "  0.02214420538842678,\n",
              "  0.02219631417095661,\n",
              "  0.022130608600378035,\n",
              "  0.022236434572935105,\n",
              "  0.02187599887251854,\n",
              "  0.02216002339720726,\n",
              "  0.021990200182795523,\n",
              "  0.022027894675731657,\n",
              "  0.02199002901315689,\n",
              "  0.021985639506578447,\n",
              "  0.02189386846423149,\n",
              "  0.022009391006827354]}"
            ]
          },
          "metadata": {
            "tags": []
          },
          "execution_count": 20
        }
      ]
    },
    {
      "cell_type": "code",
      "metadata": {
        "id": "8zoovqCwN1IS",
        "colab_type": "code",
        "outputId": "725c9f64-2808-4da8-f107-4c92a23f2676",
        "colab": {
          "base_uri": "https://localhost:8080/",
          "height": 286
        }
      },
      "source": [
        "plt.plot(hist.history['loss'], label='train')\n",
        "plt.plot(hist.history['val_loss'], label='val')\n",
        "plt.legend()\n",
        "#plt.ylim(0.021, 0.024)"
      ],
      "execution_count": 21,
      "outputs": [
        {
          "output_type": "execute_result",
          "data": {
            "text/plain": [
              "<matplotlib.legend.Legend at 0x7f2910067588>"
            ]
          },
          "metadata": {
            "tags": []
          },
          "execution_count": 21
        },
        {
          "output_type": "display_data",
          "data": {
            "image/png": "[encoded data removed]",
            "text/plain": [
              "<Figure size 432x288 with 1 Axes>"
            ]
          },
          "metadata": {
            "tags": []
          }
        }
      ]
    },
    {
      "cell_type": "markdown",
      "metadata": {
        "id": "4fACPf547XOm",
        "colab_type": "text"
      },
      "source": [
        "# テストする"
      ]
    },
    {
      "cell_type": "code",
      "metadata": {
        "id": "j8l2hx7cSmmk",
        "colab_type": "code",
        "colab": {}
      },
      "source": [
        "pred = auto_encoder.predict(x_input_test)"
      ],
      "execution_count": 0,
      "outputs": []
    },
    {
      "cell_type": "code",
      "metadata": {
        "id": "V6ZVs99-S5aC",
        "colab_type": "code",
        "outputId": "01991a42-a9bd-4669-fc5b-29ca69e1aa78",
        "colab": {
          "base_uri": "https://localhost:8080/",
          "height": 286
        }
      },
      "source": [
        "plt.imshow(x_input_test[0].squeeze())"
      ],
      "execution_count": 23,
      "outputs": [
        {
          "output_type": "execute_result",
          "data": {
            "text/plain": [
              "<matplotlib.image.AxesImage at 0x7f28f5e9e2e8>"
            ]
          },
          "metadata": {
            "tags": []
          },
          "execution_count": 23
        },
        {
          "output_type": "display_data",
          "data": {
            "image/png": "[encoded data removed]",
            "text/plain": [
              "<Figure size 432x288 with 1 Axes>"
            ]
          },
          "metadata": {
            "tags": []
          }
        }
      ]
    },
    {
      "cell_type": "code",
      "metadata": {
        "id": "yteriwcjZENk",
        "colab_type": "code",
        "outputId": "1562515b-a0e9-4161-d0e3-64fb367a9a9d",
        "colab": {
          "base_uri": "https://localhost:8080/",
          "height": 286
        }
      },
      "source": [
        "plt.imshow(pred[0].squeeze())"
      ],
      "execution_count": 24,
      "outputs": [
        {
          "output_type": "execute_result",
          "data": {
            "text/plain": [
              "<matplotlib.image.AxesImage at 0x7f28f5e6f908>"
            ]
          },
          "metadata": {
            "tags": []
          },
          "execution_count": 24
        },
        {
          "output_type": "display_data",
          "data": {
            "image/png": "[encoded data removed]",
            "text/plain": [
              "<Figure size 432x288 with 1 Axes>"
            ]
          },
          "metadata": {
            "tags": []
          }
        }
      ]
    },
    {
      "cell_type": "code",
      "metadata": {
        "id": "tipDKzVDS6xo",
        "colab_type": "code",
        "outputId": "d0be61e5-e864-454e-9311-666b02f2e105",
        "colab": {
          "base_uri": "https://localhost:8080/",
          "height": 286
        }
      },
      "source": [
        "plt.imshow(x_output_test[0].squeeze())"
      ],
      "execution_count": 25,
      "outputs": [
        {
          "output_type": "execute_result",
          "data": {
            "text/plain": [
              "<matplotlib.image.AxesImage at 0x7f28f5dc4f28>"
            ]
          },
          "metadata": {
            "tags": []
          },
          "execution_count": 25
        },
        {
          "output_type": "display_data",
          "data": {
            "image/png": "[encoded data removed]",
            "text/plain": [
              "<Figure size 432x288 with 1 Axes>"
            ]
          },
          "metadata": {
            "tags": []
          }
        }
      ]
    },
    {
      "cell_type": "code",
      "metadata": {
        "id": "FzhGTCSQTClM",
        "colab_type": "code",
        "outputId": "7d099602-c659-43ac-b1ed-c507ef8fd8a7",
        "colab": {
          "base_uri": "https://localhost:8080/",
          "height": 1347
        }
      },
      "source": [
        "for x1,x2,x3 in zip(x_input_test[:10],pred[:10],x_output_test[:10]):\n",
        "  plt.subplot(1,3,1)\n",
        "  plt.imshow(x1.squeeze())\n",
        "#  plt.clim(0,1)\n",
        "  \n",
        "  plt.subplot(1,3,2)\n",
        "  plt.imshow(x2.squeeze())\n",
        "  plt.clim(0,1)\n",
        "  \n",
        "  plt.subplot(1,3,3)\n",
        "  plt.imshow(x3.squeeze())\n",
        "  plt.clim(0,1)\n",
        "  \n",
        "  plt.show()\n",
        "  "
      ],
      "execution_count": 26,
      "outputs": [
        {
          "output_type": "display_data",
          "data": {
            "image/png": "[encoded data removed]",
            "text/plain": [
              "<Figure size 432x288 with 3 Axes>"
            ]
          },
          "metadata": {
            "tags": []
          }
        },
        {
          "output_type": "display_data",
          "data": {
            "image/png": "[encoded data removed]",
            "text/plain": [
              "<Figure size 432x288 with 3 Axes>"
            ]
          },
          "metadata": {
            "tags": []
          }
        },
        {
          "output_type": "display_data",
          "data": {
            "image/png": "[encoded data removed]",
            "text/plain": [
              "<Figure size 432x288 with 3 Axes>"
            ]
          },
          "metadata": {
            "tags": []
          }
        },
        {
          "output_type": "display_data",
          "data": {
            "image/png": "[encoded data removed]",
            "text/plain": [
              "<Figure size 432x288 with 3 Axes>"
            ]
          },
          "metadata": {
            "tags": []
          }
        },
        {
          "output_type": "display_data",
          "data": {
            "image/png": "[encoded data removed]",
            "text/plain": [
              "<Figure size 432x288 with 3 Axes>"
            ]
          },
          "metadata": {
            "tags": []
          }
        },
        {
          "output_type": "display_data",
          "data": {
            "image/png": "[encoded data removed]",
            "text/plain": [
              "<Figure size 432x288 with 3 Axes>"
            ]
          },
          "metadata": {
            "tags": []
          }
        },
        {
          "output_type": "display_data",
          "data": {
            "image/png": "[encoded data removed]",
            "text/plain": [
              "<Figure size 432x288 with 3 Axes>"
            ]
          },
          "metadata": {
            "tags": []
          }
        },
        {
          "output_type": "display_data",
          "data": {
            "image/png": "[encoded data removed]",
            "text/plain": [
              "<Figure size 432x288 with 3 Axes>"
            ]
          },
          "metadata": {
            "tags": []
          }
        },
        {
          "output_type": "display_data",
          "data": {
            "image/png": "[encoded data removed]",
            "text/plain": [
              "<Figure size 432x288 with 3 Axes>"
            ]
          },
          "metadata": {
            "tags": []
          }
        },
        {
          "output_type": "display_data",
          "data": {
            "image/png": "[encoded data removed]",
            "text/plain": [
              "<Figure size 432x288 with 3 Axes>"
            ]
          },
          "metadata": {
            "tags": []
          }
        }
      ]
    },
    {
      "cell_type": "code",
      "metadata": {
        "id": "QKHPhvNvnxGV",
        "colab_type": "code",
        "colab": {}
      },
      "source": [
        ""
      ],
      "execution_count": 0,
      "outputs": []
    }
  ]
}