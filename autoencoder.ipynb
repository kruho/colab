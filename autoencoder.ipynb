{
  "nbformat": 4,
  "nbformat_minor": 0,
  "metadata": {
    "colab": {
      "name": "autoencoder.ipynb",
      "version": "0.3.2",
      "provenance": [],
      "include_colab_link": true
    },
    "kernelspec": {
      "name": "python3",
      "display_name": "Python 3"
    },
    "accelerator": "GPU"
  },
  "cells": [
    {
      "cell_type": "markdown",
      "metadata": {
        "id": "view-in-github",
        "colab_type": "text"
      },
      "source": [
        "<a href=\"https://colab.research.google.com/github/kruho/colab/blob/master/autoencoder.ipynb\" target=\"_parent\"><img src=\"https://colab.research.google.com/assets/colab-badge.svg\" alt=\"Open In Colab\"/></a>"
      ]
    },
    {
      "cell_type": "markdown",
      "metadata": {
        "id": "5bOFj37969CD",
        "colab_type": "text"
      },
      "source": [
        "# MNISTデータをダウンロードする"
      ]
    },
    {
      "cell_type": "code",
      "metadata": {
        "id": "PE2ahkFJE3Gs",
        "colab_type": "code",
        "colab": {}
      },
      "source": [
        "from keras.datasets import mnist\n",
        "\n",
        "(x_train, y_train), (x_test, y_test) = mnist.load_data()"
      ],
      "execution_count": 0,
      "outputs": []
    },
    {
      "cell_type": "code",
      "metadata": {
        "id": "z1yq_nb6FI8P",
        "colab_type": "code",
        "outputId": "2a49873b-2711-467f-a968-e86fb96e34ef",
        "colab": {
          "base_uri": "https://localhost:8080/",
          "height": 34
        }
      },
      "source": [
        "x_train.shape, x_test.shape"
      ],
      "execution_count": 190,
      "outputs": [
        {
          "output_type": "execute_result",
          "data": {
            "text/plain": [
              "((60000, 28, 28), (10000, 28, 28))"
            ]
          },
          "metadata": {
            "tags": []
          },
          "execution_count": 190
        }
      ]
    },
    {
      "cell_type": "code",
      "metadata": {
        "id": "GnEPbXKKFRCZ",
        "colab_type": "code",
        "colab": {
          "base_uri": "https://localhost:8080/",
          "height": 286
        },
        "outputId": "1914e74e-b98a-4d10-e0dd-2de18f85ee0d"
      },
      "source": [
        "import matplotlib.pyplot as plt\n",
        "\n",
        "plt.imshow(x_train[1000])"
      ],
      "execution_count": 191,
      "outputs": [
        {
          "output_type": "execute_result",
          "data": {
            "text/plain": [
              "<matplotlib.image.AxesImage at 0x7f1376996c50>"
            ]
          },
          "metadata": {
            "tags": []
          },
          "execution_count": 191
        },
        {
          "output_type": "display_data",
          "data": {
            "image/png": "[encoded data removed]",
            "text/plain": [
              "<Figure size 432x288 with 1 Axes>"
            ]
          },
          "metadata": {
            "tags": []
          }
        }
      ]
    },
    {
      "cell_type": "markdown",
      "metadata": {
        "id": "SMnmxfA17D03",
        "colab_type": "text"
      },
      "source": [
        "# データの前処理"
      ]
    },
    {
      "cell_type": "code",
      "metadata": {
        "id": "_qAQvqvFGviS",
        "colab_type": "code",
        "outputId": "44a3afc2-0e28-4c86-f9d8-3ad83bdd74f9",
        "colab": {
          "base_uri": "https://localhost:8080/",
          "height": 34
        }
      },
      "source": [
        "x_train.min(), x_train.max()"
      ],
      "execution_count": 192,
      "outputs": [
        {
          "output_type": "execute_result",
          "data": {
            "text/plain": [
              "(0, 255)"
            ]
          },
          "metadata": {
            "tags": []
          },
          "execution_count": 192
        }
      ]
    },
    {
      "cell_type": "code",
      "metadata": {
        "id": "9eWCMc5THSXy",
        "colab_type": "code",
        "colab": {}
      },
      "source": [
        "x_train = x_train / 255.\n",
        "x_test = x_test / 255."
      ],
      "execution_count": 0,
      "outputs": []
    },
    {
      "cell_type": "code",
      "metadata": {
        "id": "bnfDSHI1Hwfk",
        "colab_type": "code",
        "outputId": "96ffc7f2-6e06-4820-85b5-b2f143091d01",
        "colab": {
          "base_uri": "https://localhost:8080/",
          "height": 34
        }
      },
      "source": [
        "x_train.min(), x_train.max()"
      ],
      "execution_count": 194,
      "outputs": [
        {
          "output_type": "execute_result",
          "data": {
            "text/plain": [
              "(0.0, 1.0)"
            ]
          },
          "metadata": {
            "tags": []
          },
          "execution_count": 194
        }
      ]
    },
    {
      "cell_type": "code",
      "metadata": {
        "id": "z5S1daEwJjq9",
        "colab_type": "code",
        "colab": {}
      },
      "source": [
        "x_train = x_train.reshape((60000,28,28,1))"
      ],
      "execution_count": 0,
      "outputs": []
    },
    {
      "cell_type": "code",
      "metadata": {
        "id": "10nNRVIHJsfl",
        "colab_type": "code",
        "colab": {}
      },
      "source": [
        "x_test = x_test.reshape((10000,28,28,1))"
      ],
      "execution_count": 0,
      "outputs": []
    },
    {
      "cell_type": "code",
      "metadata": {
        "id": "f4GuPlFKH3pX",
        "colab_type": "code",
        "colab": {}
      },
      "source": [
        "import copy\n",
        "\n",
        "x_input_train = copy.deepcopy(x_train[:50000])\n",
        "x_output_train = copy.deepcopy(x_train[:50000])\n",
        "\n",
        "x_input_val = copy.deepcopy(x_train[50000:])\n",
        "x_output_val = copy.deepcopy(x_train[50000:])\n",
        "\n",
        "x_input_test = copy.deepcopy(x_test)\n",
        "x_output_test = copy.deepcopy(x_test)"
      ],
      "execution_count": 0,
      "outputs": []
    },
    {
      "cell_type": "code",
      "metadata": {
        "id": "ZVSz5JeLUCWo",
        "colab_type": "code",
        "colab": {}
      },
      "source": [
        "import numpy as np\n",
        "import cv2\n",
        "\n",
        "# Denoising\n",
        "#x_input_train = x_input_train + np.random.random(size=x_input_train.shape) * 0.5\n",
        "#x_input_val = x_input_val + np.random.random(size=x_input_val.shape) * 0.5\n",
        "#x_input_test = x_input_test + np.random.random(size=x_input_test.shape) * 0.5\n",
        "\n",
        "#x_input_train = x_input_train + np.random.random(size=x_input_train.shape) * 5.\n",
        "#x_input_val = x_input_val + np.random.random(size=x_input_val.shape) * 5.\n",
        "#x_input_test = x_input_test + np.random.random(size=x_input_test.shape) * 5.\n",
        "\n",
        "# Inpainting\n",
        "#x_input_train[:,:,:14,:] = np.random.random(size=[50000,28,14,1])\n",
        "#x_input_val[:,:,:14,:] = np.random.random(size=[10000,28,14,1])\n",
        "#x_input_test[:,:,:14,:] = np.random.random(size=[10000,28,14,1])\n",
        "\n",
        "# Superresolution\n",
        "x_input_train = np.expand_dims(np.array([cv2.resize(x, (7,7)) for x in x_input_train]), -1)\n",
        "x_input_val = np.expand_dims(np.array([cv2.resize(x, (7,7)) for x in x_input_val]), -1)\n",
        "x_input_test = np.expand_dims(np.array([cv2.resize(x, (7,7)) for x in x_input_test]), -1)"
      ],
      "execution_count": 0,
      "outputs": []
    },
    {
      "cell_type": "code",
      "metadata": {
        "id": "_iUiCc1qWN1o",
        "colab_type": "code",
        "outputId": "acace552-6fcf-42cf-d96f-71f73fe809f5",
        "colab": {
          "base_uri": "https://localhost:8080/",
          "height": 286
        }
      },
      "source": [
        "plt.imshow(x_input_train[1000].squeeze())"
      ],
      "execution_count": 199,
      "outputs": [
        {
          "output_type": "execute_result",
          "data": {
            "text/plain": [
              "<matplotlib.image.AxesImage at 0x7f1376842dd8>"
            ]
          },
          "metadata": {
            "tags": []
          },
          "execution_count": 199
        },
        {
          "output_type": "display_data",
          "data": {
            "image/png": "[encoded data removed]",
            "text/plain": [
              "<Figure size 432x288 with 1 Axes>"
            ]
          },
          "metadata": {
            "tags": []
          }
        }
      ]
    },
    {
      "cell_type": "code",
      "metadata": {
        "id": "vveGeaYyWR5d",
        "colab_type": "code",
        "outputId": "d44b59ba-18cb-4ee6-d73f-6c903cd7405f",
        "colab": {
          "base_uri": "https://localhost:8080/",
          "height": 286
        }
      },
      "source": [
        "plt.imshow(x_output_train[1000].squeeze())"
      ],
      "execution_count": 200,
      "outputs": [
        {
          "output_type": "execute_result",
          "data": {
            "text/plain": [
              "<matplotlib.image.AxesImage at 0x7f136c691908>"
            ]
          },
          "metadata": {
            "tags": []
          },
          "execution_count": 200
        },
        {
          "output_type": "display_data",
          "data": {
            "image/png": "[encoded data removed]",
            "text/plain": [
              "<Figure size 432x288 with 1 Axes>"
            ]
          },
          "metadata": {
            "tags": []
          }
        }
      ]
    },
    {
      "cell_type": "markdown",
      "metadata": {
        "id": "hRvleRMl7Hiq",
        "colab_type": "text"
      },
      "source": [
        "# ニューラルネットを作る"
      ]
    },
    {
      "cell_type": "code",
      "metadata": {
        "id": "q2l-Vg2hIUEo",
        "colab_type": "code",
        "colab": {}
      },
      "source": [
        "from keras.layers import Input, BatchNormalization, Activation, Conv2D, UpSampling2D"
      ],
      "execution_count": 0,
      "outputs": []
    },
    {
      "cell_type": "code",
      "metadata": {
        "id": "h7R-KwHFJF5l",
        "colab_type": "code",
        "colab": {}
      },
      "source": [
        "if False:\n",
        "  input_tensor = Input((28,28,1))\n",
        "  \n",
        "  h = Activation('relu')(input_tensor)\n",
        "  h = BatchNormalization()(h)\n",
        "  h = Conv2D(16, (3,3), padding='same')(h)\n",
        "\n",
        "  h = Activation('relu')(h)\n",
        "  h = BatchNormalization()(h)\n",
        "  h = Conv2D(1, (3,3), padding='same')(h)\n",
        "\n",
        "  output_tensor = Activation('sigmoid')(h)\n",
        "  \n",
        "  \n",
        "if False:\n",
        "  input_tensor = Input((28,28,1))\n",
        "  \n",
        "  h = Activation('relu')(input_tensor)\n",
        "  h = BatchNormalization()(h)\n",
        "  h = Conv2D(16, (3,3), padding='same')(h)\n",
        "  \n",
        "  h = Activation('relu')(h)\n",
        "  h = BatchNormalization()(h)\n",
        "  h = Conv2D(32, (3,3), padding='same', strides=2)(h)\n",
        "\n",
        "  h = Activation('relu')(h)\n",
        "  h = BatchNormalization()(h)\n",
        "  h = Conv2D(32, (3,3), padding='same')(h)\n",
        "\n",
        "  h = UpSampling2D()(h)  \n",
        "\n",
        "  h = Activation('relu')(h)\n",
        "  h = BatchNormalization()(h)\n",
        "  h = Conv2D(16, (3,3), padding='same')(h)\n",
        "\n",
        "  h = Activation('relu')(h)\n",
        "  h = BatchNormalization()(h)\n",
        "  h = Conv2D(1, (3,3), padding='same')(h)\n",
        "\n",
        "  output_tensor = Activation('sigmoid')(h)\n",
        "  \n",
        "if False:\n",
        "  input_tensor = Input((28,28,1))\n",
        "  \n",
        "  nb_ch = 16\n",
        "  \n",
        "  h = Activation('relu')(input_tensor)\n",
        "  h = BatchNormalization()(h)\n",
        "  h = Conv2D(nb_ch, (3,3), padding='same')(h)\n",
        "  \n",
        "  nb_ch *= 2\n",
        "\n",
        "  h = Activation('relu')(h)\n",
        "  h = BatchNormalization()(h)\n",
        "  h = Conv2D(nb_ch, (3,3), padding='same', strides=2)(h)\n",
        "\n",
        "  h = Activation('relu')(h)\n",
        "  h = BatchNormalization()(h)\n",
        "  h = Conv2D(nb_ch, (3,3), padding='same')(h)\n",
        "\n",
        "  nb_ch *= 2\n",
        "\n",
        "  h = Activation('relu')(h)\n",
        "  h = BatchNormalization()(h)\n",
        "  h = Conv2D(nb_ch, (3,3), padding='same', strides=2)(h)\n",
        "\n",
        "  h = Activation('relu')(h)\n",
        "  h = BatchNormalization()(h)\n",
        "  h = Conv2D(nb_ch, (3,3), padding='same')(h)\n",
        "\n",
        "  h = UpSampling2D()(h)  \n",
        "  nb_ch //= 2\n",
        "\n",
        "  h = Activation('relu')(h)\n",
        "  h = BatchNormalization()(h)\n",
        "  h = Conv2D(nb_ch, (3,3), padding='same')(h)\n",
        "\n",
        "  h = Activation('relu')(h)\n",
        "  h = BatchNormalization()(h)\n",
        "  h = Conv2D(nb_ch, (3,3), padding='same')(h)\n",
        "\n",
        "  h = UpSampling2D()(h)\n",
        "  nb_ch //= 2\n",
        "\n",
        "  h = Activation('relu')(h)\n",
        "  h = BatchNormalization()(h)\n",
        "  h = Conv2D(nb_ch, (3,3), padding='same')(h)\n",
        "\n",
        "  h = Activation('relu')(h)\n",
        "  h = BatchNormalization()(h)\n",
        "  h = Conv2D(nb_ch, (3,3), padding='same')(h)\n",
        "\n",
        "  h = Activation('relu')(h)\n",
        "  h = BatchNormalization()(h)\n",
        "  h = Conv2D(1, (3,3), padding='same')(h)\n",
        "\n",
        "  output_tensor = Activation('sigmoid')(h)\n",
        "  \n",
        "if True:\n",
        "  input_tensor = Input((7,7,1))\n",
        "  \n",
        "  h = Activation('relu')(input_tensor)\n",
        "  h = BatchNormalization()(h)\n",
        "  h = Conv2D(16, (3,3), padding='same')(h)\n",
        "\n",
        "  h = UpSampling2D()(h)\n",
        "\n",
        "  h = Activation('relu')(h)\n",
        "  h = BatchNormalization()(h)\n",
        "  h = Conv2D(32, (3,3), padding='same')(h)\n",
        "\n",
        "  h = UpSampling2D()(h)\n",
        "\n",
        "  h = Activation('relu')(h)\n",
        "  h = BatchNormalization()(h)\n",
        "  h = Conv2D(64, (3,3), padding='same')(h)\n",
        "  \n",
        "  h = Activation('relu')(h)\n",
        "  h = BatchNormalization()(h)\n",
        "  h = Conv2D(1, (3,3), padding='same')(h)\n",
        "  \n",
        "  output_tensor = Activation('sigmoid')(h)"
      ],
      "execution_count": 0,
      "outputs": []
    },
    {
      "cell_type": "code",
      "metadata": {
        "id": "-jsGF70nKyM_",
        "colab_type": "code",
        "colab": {}
      },
      "source": [
        "from keras.models import Model\n",
        "\n",
        "auto_encoder = Model(input_tensor, output_tensor)"
      ],
      "execution_count": 0,
      "outputs": []
    },
    {
      "cell_type": "code",
      "metadata": {
        "id": "cEGjo2JQL24O",
        "colab_type": "code",
        "colab": {}
      },
      "source": [
        "auto_encoder.compile(loss='mse', optimizer='adam')"
      ],
      "execution_count": 0,
      "outputs": []
    },
    {
      "cell_type": "code",
      "metadata": {
        "id": "AXv-7AStL6pM",
        "colab_type": "code",
        "outputId": "16cfe5d7-efa8-4a8d-8085-526366323931",
        "colab": {
          "base_uri": "https://localhost:8080/",
          "height": 680
        }
      },
      "source": [
        "auto_encoder.summary()"
      ],
      "execution_count": 205,
      "outputs": [
        {
          "output_type": "stream",
          "text": [
            "_________________________________________________________________\n",
            "Layer (type)                 Output Shape              Param #   \n",
            "=================================================================\n",
            "input_11 (InputLayer)        (None, 7, 7, 1)           0         \n",
            "_________________________________________________________________\n",
            "activation_67 (Activation)   (None, 7, 7, 1)           0         \n",
            "_________________________________________________________________\n",
            "batch_normalization_57 (Batc (None, 7, 7, 1)           4         \n",
            "_________________________________________________________________\n",
            "conv2d_57 (Conv2D)           (None, 7, 7, 16)          160       \n",
            "_________________________________________________________________\n",
            "up_sampling2d_17 (UpSampling (None, 14, 14, 16)        0         \n",
            "_________________________________________________________________\n",
            "activation_68 (Activation)   (None, 14, 14, 16)        0         \n",
            "_________________________________________________________________\n",
            "batch_normalization_58 (Batc (None, 14, 14, 16)        64        \n",
            "_________________________________________________________________\n",
            "conv2d_58 (Conv2D)           (None, 14, 14, 32)        4640      \n",
            "_________________________________________________________________\n",
            "up_sampling2d_18 (UpSampling (None, 28, 28, 32)        0         \n",
            "_________________________________________________________________\n",
            "activation_69 (Activation)   (None, 28, 28, 32)        0         \n",
            "_________________________________________________________________\n",
            "batch_normalization_59 (Batc (None, 28, 28, 32)        128       \n",
            "_________________________________________________________________\n",
            "conv2d_59 (Conv2D)           (None, 28, 28, 64)        18496     \n",
            "_________________________________________________________________\n",
            "activation_70 (Activation)   (None, 28, 28, 64)        0         \n",
            "_________________________________________________________________\n",
            "batch_normalization_60 (Batc (None, 28, 28, 64)        256       \n",
            "_________________________________________________________________\n",
            "conv2d_60 (Conv2D)           (None, 28, 28, 1)         577       \n",
            "_________________________________________________________________\n",
            "activation_71 (Activation)   (None, 28, 28, 1)         0         \n",
            "=================================================================\n",
            "Total params: 24,325\n",
            "Trainable params: 24,099\n",
            "Non-trainable params: 226\n",
            "_________________________________________________________________\n"
          ],
          "name": "stdout"
        }
      ]
    },
    {
      "cell_type": "code",
      "metadata": {
        "id": "FPamcnOL7OH_",
        "colab_type": "code",
        "colab": {
          "base_uri": "https://localhost:8080/",
          "height": 1754
        },
        "outputId": "7da5cb2d-85f2-46cf-d84c-8037eea68e1f"
      },
      "source": [
        "from IPython.display import SVG\n",
        "from keras.utils.vis_utils import model_to_dot\n",
        "\n",
        "SVG(model_to_dot(auto_encoder, show_shapes=True).create(prog='dot', format='svg'))"
      ],
      "execution_count": 206,
      "outputs": [
        {
          "output_type": "execute_result",
          "data": {
            "text/plain": [
              "<IPython.core.display.SVG object>"
            ],
            "image/svg+xml": "<svg height=\"1300pt\" viewBox=\"0.00 0.00 469.00 1300.00\" width=\"469pt\" xmlns=\"http://www.w3.org/2000/svg\" xmlns:xlink=\"http://www.w3.org/1999/xlink\">\n<g class=\"graph\" id=\"graph0\" transform=\"scale(1 1) rotate(0) translate(4 1296)\">\n<title>G</title>\n<polygon fill=\"#ffffff\" points=\"-4,4 -4,-1296 465,-1296 465,4 -4,4\" stroke=\"transparent\"/>\n<!-- 139721577183944 -->\n<g class=\"node\" id=\"node1\">\n<title>139721577183944</title>\n<polygon fill=\"none\" points=\"80.5,-1245.5 80.5,-1291.5 380.5,-1291.5 380.5,-1245.5 80.5,-1245.5\" stroke=\"#000000\"/>\n<text fill=\"#000000\" font-family=\"Times,serif\" font-size=\"14.00\" text-anchor=\"middle\" x=\"150.5\" y=\"-1264.8\">input_11: InputLayer</text>\n<polyline fill=\"none\" points=\"220.5,-1245.5 220.5,-1291.5 \" stroke=\"#000000\"/>\n<text fill=\"#000000\" font-family=\"Times,serif\" font-size=\"14.00\" text-anchor=\"middle\" x=\"249.5\" y=\"-1276.3\">input:</text>\n<polyline fill=\"none\" points=\"220.5,-1268.5 278.5,-1268.5 \" stroke=\"#000000\"/>\n<text fill=\"#000000\" font-family=\"Times,serif\" font-size=\"14.00\" text-anchor=\"middle\" x=\"249.5\" y=\"-1253.3\">output:</text>\n<polyline fill=\"none\" points=\"278.5,-1245.5 278.5,-1291.5 \" stroke=\"#000000\"/>\n<text fill=\"#000000\" font-family=\"Times,serif\" font-size=\"14.00\" text-anchor=\"middle\" x=\"329.5\" y=\"-1276.3\">(None, 7, 7, 1)</text>\n<polyline fill=\"none\" points=\"278.5,-1268.5 380.5,-1268.5 \" stroke=\"#000000\"/>\n<text fill=\"#000000\" font-family=\"Times,serif\" font-size=\"14.00\" text-anchor=\"middle\" x=\"329.5\" y=\"-1253.3\">(None, 7, 7, 1)</text>\n</g>\n<!-- 139721577184784 -->\n<g class=\"node\" id=\"node2\">\n<title>139721577184784</title>\n<polygon fill=\"none\" points=\"70,-1162.5 70,-1208.5 391,-1208.5 391,-1162.5 70,-1162.5\" stroke=\"#000000\"/>\n<text fill=\"#000000\" font-family=\"Times,serif\" font-size=\"14.00\" text-anchor=\"middle\" x=\"150.5\" y=\"-1181.8\">activation_67: Activation</text>\n<polyline fill=\"none\" points=\"231,-1162.5 231,-1208.5 \" stroke=\"#000000\"/>\n<text fill=\"#000000\" font-family=\"Times,serif\" font-size=\"14.00\" text-anchor=\"middle\" x=\"260\" y=\"-1193.3\">input:</text>\n<polyline fill=\"none\" points=\"231,-1185.5 289,-1185.5 \" stroke=\"#000000\"/>\n<text fill=\"#000000\" font-family=\"Times,serif\" font-size=\"14.00\" text-anchor=\"middle\" x=\"260\" y=\"-1170.3\">output:</text>\n<polyline fill=\"none\" points=\"289,-1162.5 289,-1208.5 \" stroke=\"#000000\"/>\n<text fill=\"#000000\" font-family=\"Times,serif\" font-size=\"14.00\" text-anchor=\"middle\" x=\"340\" y=\"-1193.3\">(None, 7, 7, 1)</text>\n<polyline fill=\"none\" points=\"289,-1185.5 391,-1185.5 \" stroke=\"#000000\"/>\n<text fill=\"#000000\" font-family=\"Times,serif\" font-size=\"14.00\" text-anchor=\"middle\" x=\"340\" y=\"-1170.3\">(None, 7, 7, 1)</text>\n</g>\n<!-- 139721577183944&#45;&gt;139721577184784 -->\n<g class=\"edge\" id=\"edge1\">\n<title>139721577183944-&gt;139721577184784</title>\n<path d=\"M230.5,-1245.3799C230.5,-1237.1745 230.5,-1227.7679 230.5,-1218.8786\" fill=\"none\" stroke=\"#000000\"/>\n<polygon fill=\"#000000\" points=\"234.0001,-1218.784 230.5,-1208.784 227.0001,-1218.784 234.0001,-1218.784\" stroke=\"#000000\"/>\n</g>\n<!-- 139721577184896 -->\n<g class=\"node\" id=\"node3\">\n<title>139721577184896</title>\n<polygon fill=\"none\" points=\"11.5,-1079.5 11.5,-1125.5 449.5,-1125.5 449.5,-1079.5 11.5,-1079.5\" stroke=\"#000000\"/>\n<text fill=\"#000000\" font-family=\"Times,serif\" font-size=\"14.00\" text-anchor=\"middle\" x=\"150.5\" y=\"-1098.8\">batch_normalization_57: BatchNormalization</text>\n<polyline fill=\"none\" points=\"289.5,-1079.5 289.5,-1125.5 \" stroke=\"#000000\"/>\n<text fill=\"#000000\" font-family=\"Times,serif\" font-size=\"14.00\" text-anchor=\"middle\" x=\"318.5\" y=\"-1110.3\">input:</text>\n<polyline fill=\"none\" points=\"289.5,-1102.5 347.5,-1102.5 \" stroke=\"#000000\"/>\n<text fill=\"#000000\" font-family=\"Times,serif\" font-size=\"14.00\" text-anchor=\"middle\" x=\"318.5\" y=\"-1087.3\">output:</text>\n<polyline fill=\"none\" points=\"347.5,-1079.5 347.5,-1125.5 \" stroke=\"#000000\"/>\n<text fill=\"#000000\" font-family=\"Times,serif\" font-size=\"14.00\" text-anchor=\"middle\" x=\"398.5\" y=\"-1110.3\">(None, 7, 7, 1)</text>\n<polyline fill=\"none\" points=\"347.5,-1102.5 449.5,-1102.5 \" stroke=\"#000000\"/>\n<text fill=\"#000000\" font-family=\"Times,serif\" font-size=\"14.00\" text-anchor=\"middle\" x=\"398.5\" y=\"-1087.3\">(None, 7, 7, 1)</text>\n</g>\n<!-- 139721577184784&#45;&gt;139721577184896 -->\n<g class=\"edge\" id=\"edge2\">\n<title>139721577184784-&gt;139721577184896</title>\n<path d=\"M230.5,-1162.3799C230.5,-1154.1745 230.5,-1144.7679 230.5,-1135.8786\" fill=\"none\" stroke=\"#000000\"/>\n<polygon fill=\"#000000\" points=\"234.0001,-1135.784 230.5,-1125.784 227.0001,-1135.784 234.0001,-1135.784\" stroke=\"#000000\"/>\n</g>\n<!-- 139721577184056 -->\n<g class=\"node\" id=\"node4\">\n<title>139721577184056</title>\n<polygon fill=\"none\" points=\"76.5,-996.5 76.5,-1042.5 384.5,-1042.5 384.5,-996.5 76.5,-996.5\" stroke=\"#000000\"/>\n<text fill=\"#000000\" font-family=\"Times,serif\" font-size=\"14.00\" text-anchor=\"middle\" x=\"146.5\" y=\"-1015.8\">conv2d_57: Conv2D</text>\n<polyline fill=\"none\" points=\"216.5,-996.5 216.5,-1042.5 \" stroke=\"#000000\"/>\n<text fill=\"#000000\" font-family=\"Times,serif\" font-size=\"14.00\" text-anchor=\"middle\" x=\"245.5\" y=\"-1027.3\">input:</text>\n<polyline fill=\"none\" points=\"216.5,-1019.5 274.5,-1019.5 \" stroke=\"#000000\"/>\n<text fill=\"#000000\" font-family=\"Times,serif\" font-size=\"14.00\" text-anchor=\"middle\" x=\"245.5\" y=\"-1004.3\">output:</text>\n<polyline fill=\"none\" points=\"274.5,-996.5 274.5,-1042.5 \" stroke=\"#000000\"/>\n<text fill=\"#000000\" font-family=\"Times,serif\" font-size=\"14.00\" text-anchor=\"middle\" x=\"329.5\" y=\"-1027.3\">(None, 7, 7, 1)</text>\n<polyline fill=\"none\" points=\"274.5,-1019.5 384.5,-1019.5 \" stroke=\"#000000\"/>\n<text fill=\"#000000\" font-family=\"Times,serif\" font-size=\"14.00\" text-anchor=\"middle\" x=\"329.5\" y=\"-1004.3\">(None, 7, 7, 16)</text>\n</g>\n<!-- 139721577184896&#45;&gt;139721577184056 -->\n<g class=\"edge\" id=\"edge3\">\n<title>139721577184896-&gt;139721577184056</title>\n<path d=\"M230.5,-1079.3799C230.5,-1071.1745 230.5,-1061.7679 230.5,-1052.8786\" fill=\"none\" stroke=\"#000000\"/>\n<polygon fill=\"#000000\" points=\"234.0001,-1052.784 230.5,-1042.784 227.0001,-1052.784 234.0001,-1052.784\" stroke=\"#000000\"/>\n</g>\n<!-- 139721577186192 -->\n<g class=\"node\" id=\"node5\">\n<title>139721577186192</title>\n<polygon fill=\"none\" points=\"25,-913.5 25,-959.5 436,-959.5 436,-913.5 25,-913.5\" stroke=\"#000000\"/>\n<text fill=\"#000000\" font-family=\"Times,serif\" font-size=\"14.00\" text-anchor=\"middle\" x=\"139\" y=\"-932.8\">up_sampling2d_17: UpSampling2D</text>\n<polyline fill=\"none\" points=\"253,-913.5 253,-959.5 \" stroke=\"#000000\"/>\n<text fill=\"#000000\" font-family=\"Times,serif\" font-size=\"14.00\" text-anchor=\"middle\" x=\"282\" y=\"-944.3\">input:</text>\n<polyline fill=\"none\" points=\"253,-936.5 311,-936.5 \" stroke=\"#000000\"/>\n<text fill=\"#000000\" font-family=\"Times,serif\" font-size=\"14.00\" text-anchor=\"middle\" x=\"282\" y=\"-921.3\">output:</text>\n<polyline fill=\"none\" points=\"311,-913.5 311,-959.5 \" stroke=\"#000000\"/>\n<text fill=\"#000000\" font-family=\"Times,serif\" font-size=\"14.00\" text-anchor=\"middle\" x=\"373.5\" y=\"-944.3\">(None, 7, 7, 16)</text>\n<polyline fill=\"none\" points=\"311,-936.5 436,-936.5 \" stroke=\"#000000\"/>\n<text fill=\"#000000\" font-family=\"Times,serif\" font-size=\"14.00\" text-anchor=\"middle\" x=\"373.5\" y=\"-921.3\">(None, 14, 14, 16)</text>\n</g>\n<!-- 139721577184056&#45;&gt;139721577186192 -->\n<g class=\"edge\" id=\"edge4\">\n<title>139721577184056-&gt;139721577186192</title>\n<path d=\"M230.5,-996.3799C230.5,-988.1745 230.5,-978.7679 230.5,-969.8786\" fill=\"none\" stroke=\"#000000\"/>\n<polygon fill=\"#000000\" points=\"234.0001,-969.784 230.5,-959.784 227.0001,-969.784 234.0001,-969.784\" stroke=\"#000000\"/>\n</g>\n<!-- 139721577188600 -->\n<g class=\"node\" id=\"node6\">\n<title>139721577188600</title>\n<polygon fill=\"none\" points=\"58.5,-830.5 58.5,-876.5 402.5,-876.5 402.5,-830.5 58.5,-830.5\" stroke=\"#000000\"/>\n<text fill=\"#000000\" font-family=\"Times,serif\" font-size=\"14.00\" text-anchor=\"middle\" x=\"139\" y=\"-849.8\">activation_68: Activation</text>\n<polyline fill=\"none\" points=\"219.5,-830.5 219.5,-876.5 \" stroke=\"#000000\"/>\n<text fill=\"#000000\" font-family=\"Times,serif\" font-size=\"14.00\" text-anchor=\"middle\" x=\"248.5\" y=\"-861.3\">input:</text>\n<polyline fill=\"none\" points=\"219.5,-853.5 277.5,-853.5 \" stroke=\"#000000\"/>\n<text fill=\"#000000\" font-family=\"Times,serif\" font-size=\"14.00\" text-anchor=\"middle\" x=\"248.5\" y=\"-838.3\">output:</text>\n<polyline fill=\"none\" points=\"277.5,-830.5 277.5,-876.5 \" stroke=\"#000000\"/>\n<text fill=\"#000000\" font-family=\"Times,serif\" font-size=\"14.00\" text-anchor=\"middle\" x=\"340\" y=\"-861.3\">(None, 14, 14, 16)</text>\n<polyline fill=\"none\" points=\"277.5,-853.5 402.5,-853.5 \" stroke=\"#000000\"/>\n<text fill=\"#000000\" font-family=\"Times,serif\" font-size=\"14.00\" text-anchor=\"middle\" x=\"340\" y=\"-838.3\">(None, 14, 14, 16)</text>\n</g>\n<!-- 139721577186192&#45;&gt;139721577188600 -->\n<g class=\"edge\" id=\"edge5\">\n<title>139721577186192-&gt;139721577188600</title>\n<path d=\"M230.5,-913.3799C230.5,-905.1745 230.5,-895.7679 230.5,-886.8786\" fill=\"none\" stroke=\"#000000\"/>\n<polygon fill=\"#000000\" points=\"234.0001,-886.784 230.5,-876.784 227.0001,-886.784 234.0001,-886.784\" stroke=\"#000000\"/>\n</g>\n<!-- 139721575101496 -->\n<g class=\"node\" id=\"node7\">\n<title>139721575101496</title>\n<polygon fill=\"none\" points=\"0,-747.5 0,-793.5 461,-793.5 461,-747.5 0,-747.5\" stroke=\"#000000\"/>\n<text fill=\"#000000\" font-family=\"Times,serif\" font-size=\"14.00\" text-anchor=\"middle\" x=\"139\" y=\"-766.8\">batch_normalization_58: BatchNormalization</text>\n<polyline fill=\"none\" points=\"278,-747.5 278,-793.5 \" stroke=\"#000000\"/>\n<text fill=\"#000000\" font-family=\"Times,serif\" font-size=\"14.00\" text-anchor=\"middle\" x=\"307\" y=\"-778.3\">input:</text>\n<polyline fill=\"none\" points=\"278,-770.5 336,-770.5 \" stroke=\"#000000\"/>\n<text fill=\"#000000\" font-family=\"Times,serif\" font-size=\"14.00\" text-anchor=\"middle\" x=\"307\" y=\"-755.3\">output:</text>\n<polyline fill=\"none\" points=\"336,-747.5 336,-793.5 \" stroke=\"#000000\"/>\n<text fill=\"#000000\" font-family=\"Times,serif\" font-size=\"14.00\" text-anchor=\"middle\" x=\"398.5\" y=\"-778.3\">(None, 14, 14, 16)</text>\n<polyline fill=\"none\" points=\"336,-770.5 461,-770.5 \" stroke=\"#000000\"/>\n<text fill=\"#000000\" font-family=\"Times,serif\" font-size=\"14.00\" text-anchor=\"middle\" x=\"398.5\" y=\"-755.3\">(None, 14, 14, 16)</text>\n</g>\n<!-- 139721577188600&#45;&gt;139721575101496 -->\n<g class=\"edge\" id=\"edge6\">\n<title>139721577188600-&gt;139721575101496</title>\n<path d=\"M230.5,-830.3799C230.5,-822.1745 230.5,-812.7679 230.5,-803.8786\" fill=\"none\" stroke=\"#000000\"/>\n<polygon fill=\"#000000\" points=\"234.0001,-803.784 230.5,-793.784 227.0001,-803.784 234.0001,-803.784\" stroke=\"#000000\"/>\n</g>\n<!-- 139721572268408 -->\n<g class=\"node\" id=\"node8\">\n<title>139721572268408</title>\n<polygon fill=\"none\" points=\"69,-664.5 69,-710.5 392,-710.5 392,-664.5 69,-664.5\" stroke=\"#000000\"/>\n<text fill=\"#000000\" font-family=\"Times,serif\" font-size=\"14.00\" text-anchor=\"middle\" x=\"139\" y=\"-683.8\">conv2d_58: Conv2D</text>\n<polyline fill=\"none\" points=\"209,-664.5 209,-710.5 \" stroke=\"#000000\"/>\n<text fill=\"#000000\" font-family=\"Times,serif\" font-size=\"14.00\" text-anchor=\"middle\" x=\"238\" y=\"-695.3\">input:</text>\n<polyline fill=\"none\" points=\"209,-687.5 267,-687.5 \" stroke=\"#000000\"/>\n<text fill=\"#000000\" font-family=\"Times,serif\" font-size=\"14.00\" text-anchor=\"middle\" x=\"238\" y=\"-672.3\">output:</text>\n<polyline fill=\"none\" points=\"267,-664.5 267,-710.5 \" stroke=\"#000000\"/>\n<text fill=\"#000000\" font-family=\"Times,serif\" font-size=\"14.00\" text-anchor=\"middle\" x=\"329.5\" y=\"-695.3\">(None, 14, 14, 16)</text>\n<polyline fill=\"none\" points=\"267,-687.5 392,-687.5 \" stroke=\"#000000\"/>\n<text fill=\"#000000\" font-family=\"Times,serif\" font-size=\"14.00\" text-anchor=\"middle\" x=\"329.5\" y=\"-672.3\">(None, 14, 14, 32)</text>\n</g>\n<!-- 139721575101496&#45;&gt;139721572268408 -->\n<g class=\"edge\" id=\"edge7\">\n<title>139721575101496-&gt;139721572268408</title>\n<path d=\"M230.5,-747.3799C230.5,-739.1745 230.5,-729.7679 230.5,-720.8786\" fill=\"none\" stroke=\"#000000\"/>\n<polygon fill=\"#000000\" points=\"234.0001,-720.784 230.5,-710.784 227.0001,-720.784 234.0001,-720.784\" stroke=\"#000000\"/>\n</g>\n<!-- 139721574967280 -->\n<g class=\"node\" id=\"node9\">\n<title>139721574967280</title>\n<polygon fill=\"none\" points=\"25,-581.5 25,-627.5 436,-627.5 436,-581.5 25,-581.5\" stroke=\"#000000\"/>\n<text fill=\"#000000\" font-family=\"Times,serif\" font-size=\"14.00\" text-anchor=\"middle\" x=\"139\" y=\"-600.8\">up_sampling2d_18: UpSampling2D</text>\n<polyline fill=\"none\" points=\"253,-581.5 253,-627.5 \" stroke=\"#000000\"/>\n<text fill=\"#000000\" font-family=\"Times,serif\" font-size=\"14.00\" text-anchor=\"middle\" x=\"282\" y=\"-612.3\">input:</text>\n<polyline fill=\"none\" points=\"253,-604.5 311,-604.5 \" stroke=\"#000000\"/>\n<text fill=\"#000000\" font-family=\"Times,serif\" font-size=\"14.00\" text-anchor=\"middle\" x=\"282\" y=\"-589.3\">output:</text>\n<polyline fill=\"none\" points=\"311,-581.5 311,-627.5 \" stroke=\"#000000\"/>\n<text fill=\"#000000\" font-family=\"Times,serif\" font-size=\"14.00\" text-anchor=\"middle\" x=\"373.5\" y=\"-612.3\">(None, 14, 14, 32)</text>\n<polyline fill=\"none\" points=\"311,-604.5 436,-604.5 \" stroke=\"#000000\"/>\n<text fill=\"#000000\" font-family=\"Times,serif\" font-size=\"14.00\" text-anchor=\"middle\" x=\"373.5\" y=\"-589.3\">(None, 28, 28, 32)</text>\n</g>\n<!-- 139721572268408&#45;&gt;139721574967280 -->\n<g class=\"edge\" id=\"edge8\">\n<title>139721572268408-&gt;139721574967280</title>\n<path d=\"M230.5,-664.3799C230.5,-656.1745 230.5,-646.7679 230.5,-637.8786\" fill=\"none\" stroke=\"#000000\"/>\n<polygon fill=\"#000000\" points=\"234.0001,-637.784 230.5,-627.784 227.0001,-637.784 234.0001,-637.784\" stroke=\"#000000\"/>\n</g>\n<!-- 139721574967952 -->\n<g class=\"node\" id=\"node10\">\n<title>139721574967952</title>\n<polygon fill=\"none\" points=\"58.5,-498.5 58.5,-544.5 402.5,-544.5 402.5,-498.5 58.5,-498.5\" stroke=\"#000000\"/>\n<text fill=\"#000000\" font-family=\"Times,serif\" font-size=\"14.00\" text-anchor=\"middle\" x=\"139\" y=\"-517.8\">activation_69: Activation</text>\n<polyline fill=\"none\" points=\"219.5,-498.5 219.5,-544.5 \" stroke=\"#000000\"/>\n<text fill=\"#000000\" font-family=\"Times,serif\" font-size=\"14.00\" text-anchor=\"middle\" x=\"248.5\" y=\"-529.3\">input:</text>\n<polyline fill=\"none\" points=\"219.5,-521.5 277.5,-521.5 \" stroke=\"#000000\"/>\n<text fill=\"#000000\" font-family=\"Times,serif\" font-size=\"14.00\" text-anchor=\"middle\" x=\"248.5\" y=\"-506.3\">output:</text>\n<polyline fill=\"none\" points=\"277.5,-498.5 277.5,-544.5 \" stroke=\"#000000\"/>\n<text fill=\"#000000\" font-family=\"Times,serif\" font-size=\"14.00\" text-anchor=\"middle\" x=\"340\" y=\"-529.3\">(None, 28, 28, 32)</text>\n<polyline fill=\"none\" points=\"277.5,-521.5 402.5,-521.5 \" stroke=\"#000000\"/>\n<text fill=\"#000000\" font-family=\"Times,serif\" font-size=\"14.00\" text-anchor=\"middle\" x=\"340\" y=\"-506.3\">(None, 28, 28, 32)</text>\n</g>\n<!-- 139721574967280&#45;&gt;139721574967952 -->\n<g class=\"edge\" id=\"edge9\">\n<title>139721574967280-&gt;139721574967952</title>\n<path d=\"M230.5,-581.3799C230.5,-573.1745 230.5,-563.7679 230.5,-554.8786\" fill=\"none\" stroke=\"#000000\"/>\n<polygon fill=\"#000000\" points=\"234.0001,-554.784 230.5,-544.784 227.0001,-554.784 234.0001,-554.784\" stroke=\"#000000\"/>\n</g>\n<!-- 139721574968960 -->\n<g class=\"node\" id=\"node11\">\n<title>139721574968960</title>\n<polygon fill=\"none\" points=\"0,-415.5 0,-461.5 461,-461.5 461,-415.5 0,-415.5\" stroke=\"#000000\"/>\n<text fill=\"#000000\" font-family=\"Times,serif\" font-size=\"14.00\" text-anchor=\"middle\" x=\"139\" y=\"-434.8\">batch_normalization_59: BatchNormalization</text>\n<polyline fill=\"none\" points=\"278,-415.5 278,-461.5 \" stroke=\"#000000\"/>\n<text fill=\"#000000\" font-family=\"Times,serif\" font-size=\"14.00\" text-anchor=\"middle\" x=\"307\" y=\"-446.3\">input:</text>\n<polyline fill=\"none\" points=\"278,-438.5 336,-438.5 \" stroke=\"#000000\"/>\n<text fill=\"#000000\" font-family=\"Times,serif\" font-size=\"14.00\" text-anchor=\"middle\" x=\"307\" y=\"-423.3\">output:</text>\n<polyline fill=\"none\" points=\"336,-415.5 336,-461.5 \" stroke=\"#000000\"/>\n<text fill=\"#000000\" font-family=\"Times,serif\" font-size=\"14.00\" text-anchor=\"middle\" x=\"398.5\" y=\"-446.3\">(None, 28, 28, 32)</text>\n<polyline fill=\"none\" points=\"336,-438.5 461,-438.5 \" stroke=\"#000000\"/>\n<text fill=\"#000000\" font-family=\"Times,serif\" font-size=\"14.00\" text-anchor=\"middle\" x=\"398.5\" y=\"-423.3\">(None, 28, 28, 32)</text>\n</g>\n<!-- 139721574967952&#45;&gt;139721574968960 -->\n<g class=\"edge\" id=\"edge10\">\n<title>139721574967952-&gt;139721574968960</title>\n<path d=\"M230.5,-498.3799C230.5,-490.1745 230.5,-480.7679 230.5,-471.8786\" fill=\"none\" stroke=\"#000000\"/>\n<polygon fill=\"#000000\" points=\"234.0001,-471.784 230.5,-461.784 227.0001,-471.784 234.0001,-471.784\" stroke=\"#000000\"/>\n</g>\n<!-- 139721573862760 -->\n<g class=\"node\" id=\"node12\">\n<title>139721573862760</title>\n<polygon fill=\"none\" points=\"69,-332.5 69,-378.5 392,-378.5 392,-332.5 69,-332.5\" stroke=\"#000000\"/>\n<text fill=\"#000000\" font-family=\"Times,serif\" font-size=\"14.00\" text-anchor=\"middle\" x=\"139\" y=\"-351.8\">conv2d_59: Conv2D</text>\n<polyline fill=\"none\" points=\"209,-332.5 209,-378.5 \" stroke=\"#000000\"/>\n<text fill=\"#000000\" font-family=\"Times,serif\" font-size=\"14.00\" text-anchor=\"middle\" x=\"238\" y=\"-363.3\">input:</text>\n<polyline fill=\"none\" points=\"209,-355.5 267,-355.5 \" stroke=\"#000000\"/>\n<text fill=\"#000000\" font-family=\"Times,serif\" font-size=\"14.00\" text-anchor=\"middle\" x=\"238\" y=\"-340.3\">output:</text>\n<polyline fill=\"none\" points=\"267,-332.5 267,-378.5 \" stroke=\"#000000\"/>\n<text fill=\"#000000\" font-family=\"Times,serif\" font-size=\"14.00\" text-anchor=\"middle\" x=\"329.5\" y=\"-363.3\">(None, 28, 28, 32)</text>\n<polyline fill=\"none\" points=\"267,-355.5 392,-355.5 \" stroke=\"#000000\"/>\n<text fill=\"#000000\" font-family=\"Times,serif\" font-size=\"14.00\" text-anchor=\"middle\" x=\"329.5\" y=\"-340.3\">(None, 28, 28, 64)</text>\n</g>\n<!-- 139721574968960&#45;&gt;139721573862760 -->\n<g class=\"edge\" id=\"edge11\">\n<title>139721574968960-&gt;139721573862760</title>\n<path d=\"M230.5,-415.3799C230.5,-407.1745 230.5,-397.7679 230.5,-388.8786\" fill=\"none\" stroke=\"#000000\"/>\n<polygon fill=\"#000000\" points=\"234.0001,-388.784 230.5,-378.784 227.0001,-388.784 234.0001,-388.784\" stroke=\"#000000\"/>\n</g>\n<!-- 139721398417896 -->\n<g class=\"node\" id=\"node13\">\n<title>139721398417896</title>\n<polygon fill=\"none\" points=\"58.5,-249.5 58.5,-295.5 402.5,-295.5 402.5,-249.5 58.5,-249.5\" stroke=\"#000000\"/>\n<text fill=\"#000000\" font-family=\"Times,serif\" font-size=\"14.00\" text-anchor=\"middle\" x=\"139\" y=\"-268.8\">activation_70: Activation</text>\n<polyline fill=\"none\" points=\"219.5,-249.5 219.5,-295.5 \" stroke=\"#000000\"/>\n<text fill=\"#000000\" font-family=\"Times,serif\" font-size=\"14.00\" text-anchor=\"middle\" x=\"248.5\" y=\"-280.3\">input:</text>\n<polyline fill=\"none\" points=\"219.5,-272.5 277.5,-272.5 \" stroke=\"#000000\"/>\n<text fill=\"#000000\" font-family=\"Times,serif\" font-size=\"14.00\" text-anchor=\"middle\" x=\"248.5\" y=\"-257.3\">output:</text>\n<polyline fill=\"none\" points=\"277.5,-249.5 277.5,-295.5 \" stroke=\"#000000\"/>\n<text fill=\"#000000\" font-family=\"Times,serif\" font-size=\"14.00\" text-anchor=\"middle\" x=\"340\" y=\"-280.3\">(None, 28, 28, 64)</text>\n<polyline fill=\"none\" points=\"277.5,-272.5 402.5,-272.5 \" stroke=\"#000000\"/>\n<text fill=\"#000000\" font-family=\"Times,serif\" font-size=\"14.00\" text-anchor=\"middle\" x=\"340\" y=\"-257.3\">(None, 28, 28, 64)</text>\n</g>\n<!-- 139721573862760&#45;&gt;139721398417896 -->\n<g class=\"edge\" id=\"edge12\">\n<title>139721573862760-&gt;139721398417896</title>\n<path d=\"M230.5,-332.3799C230.5,-324.1745 230.5,-314.7679 230.5,-305.8786\" fill=\"none\" stroke=\"#000000\"/>\n<polygon fill=\"#000000\" points=\"234.0001,-305.784 230.5,-295.784 227.0001,-305.784 234.0001,-305.784\" stroke=\"#000000\"/>\n</g>\n<!-- 139721397633488 -->\n<g class=\"node\" id=\"node14\">\n<title>139721397633488</title>\n<polygon fill=\"none\" points=\"0,-166.5 0,-212.5 461,-212.5 461,-166.5 0,-166.5\" stroke=\"#000000\"/>\n<text fill=\"#000000\" font-family=\"Times,serif\" font-size=\"14.00\" text-anchor=\"middle\" x=\"139\" y=\"-185.8\">batch_normalization_60: BatchNormalization</text>\n<polyline fill=\"none\" points=\"278,-166.5 278,-212.5 \" stroke=\"#000000\"/>\n<text fill=\"#000000\" font-family=\"Times,serif\" font-size=\"14.00\" text-anchor=\"middle\" x=\"307\" y=\"-197.3\">input:</text>\n<polyline fill=\"none\" points=\"278,-189.5 336,-189.5 \" stroke=\"#000000\"/>\n<text fill=\"#000000\" font-family=\"Times,serif\" font-size=\"14.00\" text-anchor=\"middle\" x=\"307\" y=\"-174.3\">output:</text>\n<polyline fill=\"none\" points=\"336,-166.5 336,-212.5 \" stroke=\"#000000\"/>\n<text fill=\"#000000\" font-family=\"Times,serif\" font-size=\"14.00\" text-anchor=\"middle\" x=\"398.5\" y=\"-197.3\">(None, 28, 28, 64)</text>\n<polyline fill=\"none\" points=\"336,-189.5 461,-189.5 \" stroke=\"#000000\"/>\n<text fill=\"#000000\" font-family=\"Times,serif\" font-size=\"14.00\" text-anchor=\"middle\" x=\"398.5\" y=\"-174.3\">(None, 28, 28, 64)</text>\n</g>\n<!-- 139721398417896&#45;&gt;139721397633488 -->\n<g class=\"edge\" id=\"edge13\">\n<title>139721398417896-&gt;139721397633488</title>\n<path d=\"M230.5,-249.3799C230.5,-241.1745 230.5,-231.7679 230.5,-222.8786\" fill=\"none\" stroke=\"#000000\"/>\n<polygon fill=\"#000000\" points=\"234.0001,-222.784 230.5,-212.784 227.0001,-222.784 234.0001,-222.784\" stroke=\"#000000\"/>\n</g>\n<!-- 139721397784472 -->\n<g class=\"node\" id=\"node15\">\n<title>139721397784472</title>\n<polygon fill=\"none\" points=\"69,-83.5 69,-129.5 392,-129.5 392,-83.5 69,-83.5\" stroke=\"#000000\"/>\n<text fill=\"#000000\" font-family=\"Times,serif\" font-size=\"14.00\" text-anchor=\"middle\" x=\"139\" y=\"-102.8\">conv2d_60: Conv2D</text>\n<polyline fill=\"none\" points=\"209,-83.5 209,-129.5 \" stroke=\"#000000\"/>\n<text fill=\"#000000\" font-family=\"Times,serif\" font-size=\"14.00\" text-anchor=\"middle\" x=\"238\" y=\"-114.3\">input:</text>\n<polyline fill=\"none\" points=\"209,-106.5 267,-106.5 \" stroke=\"#000000\"/>\n<text fill=\"#000000\" font-family=\"Times,serif\" font-size=\"14.00\" text-anchor=\"middle\" x=\"238\" y=\"-91.3\">output:</text>\n<polyline fill=\"none\" points=\"267,-83.5 267,-129.5 \" stroke=\"#000000\"/>\n<text fill=\"#000000\" font-family=\"Times,serif\" font-size=\"14.00\" text-anchor=\"middle\" x=\"329.5\" y=\"-114.3\">(None, 28, 28, 64)</text>\n<polyline fill=\"none\" points=\"267,-106.5 392,-106.5 \" stroke=\"#000000\"/>\n<text fill=\"#000000\" font-family=\"Times,serif\" font-size=\"14.00\" text-anchor=\"middle\" x=\"329.5\" y=\"-91.3\">(None, 28, 28, 1)</text>\n</g>\n<!-- 139721397633488&#45;&gt;139721397784472 -->\n<g class=\"edge\" id=\"edge14\">\n<title>139721397633488-&gt;139721397784472</title>\n<path d=\"M230.5,-166.3799C230.5,-158.1745 230.5,-148.7679 230.5,-139.8786\" fill=\"none\" stroke=\"#000000\"/>\n<polygon fill=\"#000000\" points=\"234.0001,-139.784 230.5,-129.784 227.0001,-139.784 234.0001,-139.784\" stroke=\"#000000\"/>\n</g>\n<!-- 139721397355744 -->\n<g class=\"node\" id=\"node16\">\n<title>139721397355744</title>\n<polygon fill=\"none\" points=\"62.5,-.5 62.5,-46.5 398.5,-46.5 398.5,-.5 62.5,-.5\" stroke=\"#000000\"/>\n<text fill=\"#000000\" font-family=\"Times,serif\" font-size=\"14.00\" text-anchor=\"middle\" x=\"143\" y=\"-19.8\">activation_71: Activation</text>\n<polyline fill=\"none\" points=\"223.5,-.5 223.5,-46.5 \" stroke=\"#000000\"/>\n<text fill=\"#000000\" font-family=\"Times,serif\" font-size=\"14.00\" text-anchor=\"middle\" x=\"252.5\" y=\"-31.3\">input:</text>\n<polyline fill=\"none\" points=\"223.5,-23.5 281.5,-23.5 \" stroke=\"#000000\"/>\n<text fill=\"#000000\" font-family=\"Times,serif\" font-size=\"14.00\" text-anchor=\"middle\" x=\"252.5\" y=\"-8.3\">output:</text>\n<polyline fill=\"none\" points=\"281.5,-.5 281.5,-46.5 \" stroke=\"#000000\"/>\n<text fill=\"#000000\" font-family=\"Times,serif\" font-size=\"14.00\" text-anchor=\"middle\" x=\"340\" y=\"-31.3\">(None, 28, 28, 1)</text>\n<polyline fill=\"none\" points=\"281.5,-23.5 398.5,-23.5 \" stroke=\"#000000\"/>\n<text fill=\"#000000\" font-family=\"Times,serif\" font-size=\"14.00\" text-anchor=\"middle\" x=\"340\" y=\"-8.3\">(None, 28, 28, 1)</text>\n</g>\n<!-- 139721397784472&#45;&gt;139721397355744 -->\n<g class=\"edge\" id=\"edge15\">\n<title>139721397784472-&gt;139721397355744</title>\n<path d=\"M230.5,-83.3799C230.5,-75.1745 230.5,-65.7679 230.5,-56.8786\" fill=\"none\" stroke=\"#000000\"/>\n<polygon fill=\"#000000\" points=\"234.0001,-56.784 230.5,-46.784 227.0001,-56.784 234.0001,-56.784\" stroke=\"#000000\"/>\n</g>\n</g>\n</svg>"
          },
          "metadata": {
            "tags": []
          },
          "execution_count": 206
        }
      ]
    },
    {
      "cell_type": "markdown",
      "metadata": {
        "id": "y5eD5oEh7NV7",
        "colab_type": "text"
      },
      "source": [
        "# 訓練する"
      ]
    },
    {
      "cell_type": "code",
      "metadata": {
        "id": "qO-LnGccL8Gl",
        "colab_type": "code",
        "outputId": "5cca51fd-1cc1-4ab1-b5eb-4e5126434d66",
        "colab": {
          "base_uri": "https://localhost:8080/",
          "height": 714
        }
      },
      "source": [
        "hist = auto_encoder.fit(\n",
        "    x = x_input_train,\n",
        "    y = x_output_train,\n",
        "    epochs = 20,\n",
        "    batch_size=100,\n",
        "    validation_data = (x_input_val, x_output_val),\n",
        ")"
      ],
      "execution_count": 207,
      "outputs": [
        {
          "output_type": "stream",
          "text": [
            "Train on 50000 samples, validate on 10000 samples\n",
            "Epoch 1/20\n",
            "50000/50000 [==============================] - 9s 182us/step - loss: 0.0374 - val_loss: 0.0261\n",
            "Epoch 2/20\n",
            "50000/50000 [==============================] - 6s 129us/step - loss: 0.0231 - val_loss: 0.0249\n",
            "Epoch 3/20\n",
            "50000/50000 [==============================] - 6s 129us/step - loss: 0.0212 - val_loss: 0.0210\n",
            "Epoch 4/20\n",
            "50000/50000 [==============================] - 6s 129us/step - loss: 0.0203 - val_loss: 0.0202\n",
            "Epoch 5/20\n",
            "50000/50000 [==============================] - 6s 129us/step - loss: 0.0200 - val_loss: 0.0201\n",
            "Epoch 6/20\n",
            "50000/50000 [==============================] - 6s 129us/step - loss: 0.0196 - val_loss: 0.0196\n",
            "Epoch 7/20\n",
            "50000/50000 [==============================] - 6s 130us/step - loss: 0.0193 - val_loss: 0.0194\n",
            "Epoch 8/20\n",
            "50000/50000 [==============================] - 6s 130us/step - loss: 0.0191 - val_loss: 0.0199\n",
            "Epoch 9/20\n",
            "50000/50000 [==============================] - 6s 129us/step - loss: 0.0189 - val_loss: 0.0190\n",
            "Epoch 10/20\n",
            "50000/50000 [==============================] - 6s 129us/step - loss: 0.0188 - val_loss: 0.0192\n",
            "Epoch 11/20\n",
            "50000/50000 [==============================] - 6s 129us/step - loss: 0.0187 - val_loss: 0.0189\n",
            "Epoch 12/20\n",
            "50000/50000 [==============================] - 6s 129us/step - loss: 0.0185 - val_loss: 0.0187\n",
            "Epoch 13/20\n",
            "50000/50000 [==============================] - 6s 129us/step - loss: 0.0184 - val_loss: 0.0185\n",
            "Epoch 14/20\n",
            "50000/50000 [==============================] - 6s 129us/step - loss: 0.0183 - val_loss: 0.0189\n",
            "Epoch 15/20\n",
            "50000/50000 [==============================] - 6s 129us/step - loss: 0.0182 - val_loss: 0.0186\n",
            "Epoch 16/20\n",
            "50000/50000 [==============================] - 6s 129us/step - loss: 0.0182 - val_loss: 0.0187\n",
            "Epoch 17/20\n",
            "50000/50000 [==============================] - 6s 129us/step - loss: 0.0181 - val_loss: 0.0184\n",
            "Epoch 18/20\n",
            "50000/50000 [==============================] - 6s 129us/step - loss: 0.0180 - val_loss: 0.0183\n",
            "Epoch 19/20\n",
            "50000/50000 [==============================] - 6s 129us/step - loss: 0.0180 - val_loss: 0.0182\n",
            "Epoch 20/20\n",
            "50000/50000 [==============================] - 6s 130us/step - loss: 0.0179 - val_loss: 0.0182\n"
          ],
          "name": "stdout"
        }
      ]
    },
    {
      "cell_type": "code",
      "metadata": {
        "id": "nHE7-5jsMWhN",
        "colab_type": "code",
        "outputId": "6b0f433e-6d04-4626-dcf6-9bf6f59dd11a",
        "colab": {
          "base_uri": "https://localhost:8080/",
          "height": 697
        }
      },
      "source": [
        "hist.history"
      ],
      "execution_count": 208,
      "outputs": [
        {
          "output_type": "execute_result",
          "data": {
            "text/plain": [
              "{'loss': [0.03738710669800639,\n",
              "  0.023092842299491167,\n",
              "  0.02116747500002384,\n",
              "  0.020345800295472144,\n",
              "  0.019959027376025916,\n",
              "  0.01959783297777176,\n",
              "  0.01931060890480876,\n",
              "  0.019112179812043904,\n",
              "  0.018927318181842564,\n",
              "  0.01876242046430707,\n",
              "  0.018676119714975358,\n",
              "  0.018548912964761258,\n",
              "  0.018411193933337927,\n",
              "  0.018323617435991764,\n",
              "  0.01824568110704422,\n",
              "  0.018184224892407657,\n",
              "  0.01811786238476634,\n",
              "  0.01804660711809993,\n",
              "  0.01798537254706025,\n",
              "  0.017940400026738645],\n",
              " 'val_loss': [0.026073370277881622,\n",
              "  0.024898720048367975,\n",
              "  0.020993229411542417,\n",
              "  0.020226605832576752,\n",
              "  0.02012691890820861,\n",
              "  0.019595658332109453,\n",
              "  0.019366246331483126,\n",
              "  0.019913708455860615,\n",
              "  0.018998520765453577,\n",
              "  0.019167754873633383,\n",
              "  0.01889947697520256,\n",
              "  0.018738201539963483,\n",
              "  0.01852018032222986,\n",
              "  0.01891198419034481,\n",
              "  0.0186051213555038,\n",
              "  0.018676424734294414,\n",
              "  0.018361321557313202,\n",
              "  0.018328038733452557,\n",
              "  0.018211971782147885,\n",
              "  0.018177621625363828]}"
            ]
          },
          "metadata": {
            "tags": []
          },
          "execution_count": 208
        }
      ]
    },
    {
      "cell_type": "code",
      "metadata": {
        "id": "8zoovqCwN1IS",
        "colab_type": "code",
        "outputId": "a72a842d-9bfd-4771-a700-d465c9c5c675",
        "colab": {
          "base_uri": "https://localhost:8080/",
          "height": 286
        }
      },
      "source": [
        "plt.plot(hist.history['loss'], label='train')\n",
        "plt.plot(hist.history['val_loss'], label='val')\n",
        "plt.legend()\n",
        "#plt.ylim(0.021, 0.024)"
      ],
      "execution_count": 209,
      "outputs": [
        {
          "output_type": "execute_result",
          "data": {
            "text/plain": [
              "<matplotlib.legend.Legend at 0x7f136ba2fa58>"
            ]
          },
          "metadata": {
            "tags": []
          },
          "execution_count": 209
        },
        {
          "output_type": "display_data",
          "data": {
            "image/png": "[encoded data removed]",
            "text/plain": [
              "<Figure size 432x288 with 1 Axes>"
            ]
          },
          "metadata": {
            "tags": []
          }
        }
      ]
    },
    {
      "cell_type": "markdown",
      "metadata": {
        "id": "4fACPf547XOm",
        "colab_type": "text"
      },
      "source": [
        "# テストする"
      ]
    },
    {
      "cell_type": "code",
      "metadata": {
        "id": "j8l2hx7cSmmk",
        "colab_type": "code",
        "colab": {}
      },
      "source": [
        "pred = auto_encoder.predict(x_input_test)"
      ],
      "execution_count": 0,
      "outputs": []
    },
    {
      "cell_type": "code",
      "metadata": {
        "id": "V6ZVs99-S5aC",
        "colab_type": "code",
        "outputId": "9e177819-8a5f-464a-a22d-5cdae45ee82f",
        "colab": {
          "base_uri": "https://localhost:8080/",
          "height": 286
        }
      },
      "source": [
        "plt.imshow(x_input_test[0].squeeze())"
      ],
      "execution_count": 211,
      "outputs": [
        {
          "output_type": "execute_result",
          "data": {
            "text/plain": [
              "<matplotlib.image.AxesImage at 0x7f136b9935f8>"
            ]
          },
          "metadata": {
            "tags": []
          },
          "execution_count": 211
        },
        {
          "output_type": "display_data",
          "data": {
            "image/png": "[encoded data removed]",
            "text/plain": [
              "<Figure size 432x288 with 1 Axes>"
            ]
          },
          "metadata": {
            "tags": []
          }
        }
      ]
    },
    {
      "cell_type": "code",
      "metadata": {
        "id": "yteriwcjZENk",
        "colab_type": "code",
        "outputId": "8610fa8c-5544-46dc-a49d-66f25bc55d55",
        "colab": {
          "base_uri": "https://localhost:8080/",
          "height": 286
        }
      },
      "source": [
        "plt.imshow(pred[0].squeeze())"
      ],
      "execution_count": 212,
      "outputs": [
        {
          "output_type": "execute_result",
          "data": {
            "text/plain": [
              "<matplotlib.image.AxesImage at 0x7f136b8f52e8>"
            ]
          },
          "metadata": {
            "tags": []
          },
          "execution_count": 212
        },
        {
          "output_type": "display_data",
          "data": {
            "image/png": "[encoded data removed]",
            "text/plain": [
              "<Figure size 432x288 with 1 Axes>"
            ]
          },
          "metadata": {
            "tags": []
          }
        }
      ]
    },
    {
      "cell_type": "code",
      "metadata": {
        "id": "tipDKzVDS6xo",
        "colab_type": "code",
        "outputId": "0b90351b-19a9-406c-bb5e-bb0b8bb55454",
        "colab": {
          "base_uri": "https://localhost:8080/",
          "height": 286
        }
      },
      "source": [
        "plt.imshow(x_output_test[0].squeeze())"
      ],
      "execution_count": 213,
      "outputs": [
        {
          "output_type": "execute_result",
          "data": {
            "text/plain": [
              "<matplotlib.image.AxesImage at 0x7f136b8c78d0>"
            ]
          },
          "metadata": {
            "tags": []
          },
          "execution_count": 213
        },
        {
          "output_type": "display_data",
          "data": {
            "image/png": "[encoded data removed]",
            "text/plain": [
              "<Figure size 432x288 with 1 Axes>"
            ]
          },
          "metadata": {
            "tags": []
          }
        }
      ]
    },
    {
      "cell_type": "code",
      "metadata": {
        "id": "FzhGTCSQTClM",
        "colab_type": "code",
        "outputId": "5df990e3-86d5-421f-b376-931f6c512f2b",
        "colab": {
          "base_uri": "https://localhost:8080/",
          "height": 1347
        }
      },
      "source": [
        "for x1,x2,x3 in zip(x_input_test[:10],pred[:10],x_output_test[:10]):\n",
        "  plt.subplot(1,3,1)\n",
        "  plt.imshow(x1.squeeze())\n",
        "#  plt.clim(0,1)\n",
        "  \n",
        "  plt.subplot(1,3,2)\n",
        "  plt.imshow(x2.squeeze())\n",
        "  plt.clim(0,1)\n",
        "  \n",
        "  plt.subplot(1,3,3)\n",
        "  plt.imshow(x3.squeeze())\n",
        "  plt.clim(0,1)\n",
        "  \n",
        "  plt.show()\n",
        "  "
      ],
      "execution_count": 214,
      "outputs": [
        {
          "output_type": "display_data",
          "data": {
            "image/png": "[encoded data removed]",
            "text/plain": [
              "<Figure size 432x288 with 3 Axes>"
            ]
          },
          "metadata": {
            "tags": []
          }
        },
        {
          "output_type": "display_data",
          "data": {
            "image/png": "[encoded data removed]",
            "text/plain": [
              "<Figure size 432x288 with 3 Axes>"
            ]
          },
          "metadata": {
            "tags": []
          }
        },
        {
          "output_type": "display_data",
          "data": {
            "image/png": "[encoded data removed]",
            "text/plain": [
              "<Figure size 432x288 with 3 Axes>"
            ]
          },
          "metadata": {
            "tags": []
          }
        },
        {
          "output_type": "display_data",
          "data": {
            "image/png": "[encoded data removed]",
            "text/plain": [
              "<Figure size 432x288 with 3 Axes>"
            ]
          },
          "metadata": {
            "tags": []
          }
        },
        {
          "output_type": "display_data",
          "data": {
            "image/png": "[encoded data removed]",
            "text/plain": [
              "<Figure size 432x288 with 3 Axes>"
            ]
          },
          "metadata": {
            "tags": []
          }
        },
        {
          "output_type": "display_data",
          "data": {
            "image/png": "[encoded data removed]",
            "text/plain": [
              "<Figure size 432x288 with 3 Axes>"
            ]
          },
          "metadata": {
            "tags": []
          }
        },
        {
          "output_type": "display_data",
          "data": {
            "image/png": "[encoded data removed]",
            "text/plain": [
              "<Figure size 432x288 with 3 Axes>"
            ]
          },
          "metadata": {
            "tags": []
          }
        },
        {
          "output_type": "display_data",
          "data": {
            "image/png": "[encoded data removed]",
            "text/plain": [
              "<Figure size 432x288 with 3 Axes>"
            ]
          },
          "metadata": {
            "tags": []
          }
        },
        {
          "output_type": "display_data",
          "data": {
            "image/png": "[encoded data removed]",
            "text/plain": [
              "<Figure size 432x288 with 3 Axes>"
            ]
          },
          "metadata": {
            "tags": []
          }
        },
        {
          "output_type": "display_data",
          "data": {
            "image/png": "[encoded data removed]",
            "text/plain": [
              "<Figure size 432x288 with 3 Axes>"
            ]
          },
          "metadata": {
            "tags": []
          }
        }
      ]
    },
    {
      "cell_type": "code",
      "metadata": {
        "id": "QKHPhvNvnxGV",
        "colab_type": "code",
        "colab": {}
      },
      "source": [
        ""
      ],
      "execution_count": 0,
      "outputs": []
    }
  ]
}